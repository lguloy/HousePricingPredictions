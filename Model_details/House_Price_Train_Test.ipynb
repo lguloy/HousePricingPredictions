{
  "nbformat": 4,
  "nbformat_minor": 0,
  "metadata": {
    "colab": {
      "name": "Dummies_House_Price_Train_Test.ipynb",
      "provenance": [],
      "include_colab_link": true
    },
    "kernelspec": {
      "name": "python3",
      "display_name": "Python 3"
    },
    "language_info": {
      "name": "python"
    }
  },
  "cells": [
    {
      "cell_type": "markdown",
      "metadata": {
        "id": "view-in-github",
        "colab_type": "text"
      },
      "source": [
        "<a href=\"https://colab.research.google.com/github/lguloy/House-Pricing-Predictions/blob/Housing_predictions_Clayton/Dummies_House_Price_Train_Test.ipynb\" target=\"_parent\"><img src=\"https://colab.research.google.com/assets/colab-badge.svg\" alt=\"Open In Colab\"/></a>"
      ]
    },
    {
      "cell_type": "code",
      "metadata": {
        "colab": {
          "base_uri": "https://localhost:8080/"
        },
        "id": "NSkkWNzXSTTq",
        "outputId": "ee3e1e00-d00d-49b4-9e03-3635c5e3a8da"
      },
      "source": [
        "import os\n",
        "# Find the latest version of spark 3.0  from http://www-us.apache.org/dist/spark/ and enter as the spark version\n",
        "# For example:\n",
        "spark_version = 'spark-3.0.3'\n",
        "# spark_version = 'spark-3.<enter version>'\n",
        "os.environ['SPARK_VERSION']=spark_version\n",
        "\n",
        "# Install Spark and Java\n",
        "!apt-get update\n",
        "!apt-get install openjdk-11-jdk-headless -qq > /dev/null\n",
        "!wget -q http://www-us.apache.org/dist/spark/$SPARK_VERSION/$SPARK_VERSION-bin-hadoop2.7.tgz\n",
        "!tar xf $SPARK_VERSION-bin-hadoop2.7.tgz\n",
        "!pip install -q findspark\n",
        "\n",
        "# Set Environment Variables\n",
        "os.environ[\"JAVA_HOME\"] = \"/usr/lib/jvm/java-11-openjdk-amd64\"\n",
        "os.environ[\"SPARK_HOME\"] = f\"/content/{spark_version}-bin-hadoop2.7\"\n",
        "\n",
        "# Start a SparkSession\n",
        "import findspark\n",
        "findspark.init()"
      ],
      "execution_count": 2,
      "outputs": [
        {
          "output_type": "stream",
          "text": [
            "\r0% [Working]\r            \rIgn:1 https://developer.download.nvidia.com/compute/cuda/repos/ubuntu1804/x86_64  InRelease\n",
            "\r0% [Connecting to archive.ubuntu.com] [Connecting to security.ubuntu.com] [Conn\r                                                                               \rIgn:2 https://developer.download.nvidia.com/compute/machine-learning/repos/ubuntu1804/x86_64  InRelease\n",
            "\r0% [Connecting to archive.ubuntu.com] [Connecting to security.ubuntu.com] [Conn\r                                                                               \rHit:3 https://developer.download.nvidia.com/compute/cuda/repos/ubuntu1804/x86_64  Release\n",
            "Hit:4 https://developer.download.nvidia.com/compute/machine-learning/repos/ubuntu1804/x86_64  Release\n",
            "Hit:6 http://security.ubuntu.com/ubuntu bionic-security InRelease\n",
            "Hit:7 http://ppa.launchpad.net/c2d4u.team/c2d4u4.0+/ubuntu bionic InRelease\n",
            "Hit:8 http://archive.ubuntu.com/ubuntu bionic InRelease\n",
            "Hit:10 http://archive.ubuntu.com/ubuntu bionic-updates InRelease\n",
            "Hit:11 http://archive.ubuntu.com/ubuntu bionic-backports InRelease\n",
            "Hit:12 http://ppa.launchpad.net/cran/libgit2/ubuntu bionic InRelease\n",
            "Hit:13 http://ppa.launchpad.net/deadsnakes/ppa/ubuntu bionic InRelease\n",
            "Hit:14 https://cloud.r-project.org/bin/linux/ubuntu bionic-cran40/ InRelease\n",
            "Hit:15 http://ppa.launchpad.net/graphics-drivers/ppa/ubuntu bionic InRelease\n",
            "Reading package lists... Done\n"
          ],
          "name": "stdout"
        }
      ]
    },
    {
      "cell_type": "code",
      "metadata": {
        "id": "oGVWlqSeSXXC"
      },
      "source": [
        "from pyspark.sql import SparkSession\n",
        "spark = SparkSession.builder.appName(\"CloudETL\").config(\"spark.driver.extraClassPath\",\"/content/postgresql-42.2.9.jar\").getOrCreate()"
      ],
      "execution_count": 3,
      "outputs": []
    },
    {
      "cell_type": "code",
      "metadata": {
        "colab": {
          "base_uri": "https://localhost:8080/"
        },
        "id": "7XlWn8gISegT",
        "outputId": "4b30473c-06c6-4722-ecd0-3e56f1b09885"
      },
      "source": [
        "\n",
        "from pyspark import SparkFiles\n",
        "# Load in train.csv from S3 into a DataFrame\n",
        "url = \"https://finalprojectbootcamp.s3.us-east-2.amazonaws.com/train_converted_df.csv\"\n",
        "spark.sparkContext.addFile(url)\n",
        "\n",
        "df = spark.read.option('header', 'true').csv(SparkFiles.get(\"train_converted_df.csv\"), inferSchema=True, sep=',', timestampFormat=\"mm/dd/yy\")\n",
        "df.show(10)\n",
        "\n",
        "#Convert to Pandas to allow train_test_split usage\n",
        "df = df.select(\"*\").toPandas()\n",
        "#df = df.dropna(how=\"any\")"
      ],
      "execution_count": 4,
      "outputs": [
        {
          "output_type": "stream",
          "text": [
            "+---+----------+-----------+-------+-----------+-----------+---------+------------+----------+---------+---------+--------+--------+------------+------------+----------+------------+----------+---------+-----------+---------+------------+---------+------------+------------+--------+--------+------------+------------+-----------+------------+----------+----------+-----------+-----------+------------+----------+----------+----------+----------+----------+-----------+-------------+-----------+--------+------+-----+-------+------+------+---------+-----------+-----------+-----------+-----------+----------+------------+------------+------------+---------------+---------------+---------------+----------------+-----------------+-------------+-------------+----------------+-------------+-------------+--------------------+-------------------+--------------------+--------------------+--------------------+--------------------+--------------------+--------------------+-------------------+--------------------+--------------------+------------------+--------------------+-------------------+--------------------+--------------------+--------------------+------------------+-------------------+--------------------+--------------------+--------------------+-------------------+--------------------+----------------+---------------+---------------+---------------+---------------+---------------+---------------+---------------+----------------+---------------+---------------+---------------+---------------+---------------+---------------+---------------+---------------+--------------+---------------+-----------------+-----------------+-----------------+-----------------+-----------------+-----------------+---------------+---------------+-----------------+-------------+-----------------+--------------+----------------+----------------+--------------+-------------+----------------+----------------+----------------+-------------------+-------------------+-------------------+------------------+-------------------+-------------------+-------------------+-------------------+-------------------+-----------------+------------------+-------------------+-------------------+-------------------+-------------------+-------------------+-------------------+------------------+-------------------+-------------------+-------------------+-------------------+-----------------+-------------------+-----------------+------------------+-------------------+-------------------+-------------------+------------------+---------------+----------------+-----------------+----------------+---------------+----------------+---------------+------------+------------+------------+------------+------------+------------+----------------+----------------+--------------+----------------+-----------------+------------------+------------------+------------------+-----------------+------------+------------+----------------+----------------+----------------+------------+------------+--------------+--------------+--------------+------------+------------+-----------+---------------------+--------------------+--------------------+--------------------+---------------------+----------+-----------+----------+\n",
            "| Id|MSSubClass|LotFrontage|LotArea|OverallQual|OverallCond|YearBuilt|YearRemodAdd|MasVnrArea|ExterQual|ExterCond|BsmtQual|BsmtCond|BsmtExposure|BsmtFinType1|BsmtFinSF1|BsmtFinType2|BsmtFinSF2|BsmtUnfSF|TotalBsmtSF|HeatingQC|LowQualFinSF|GrLivArea|BsmtFullBath|BsmtHalfBath|FullBath|HalfBath|BedroomAbvGr|KitchenAbvGr|KitchenQual|TotRmsAbvGrd|Functional|Fireplaces|FireplaceQu|GarageYrBlt|GarageFinish|GarageCars|GarageArea|GarageQual|GarageCond|WoodDeckSF|OpenPorchSF|EnclosedPorch|ScreenPorch|PoolArea|PoolQC|Fence|MiscVal|MoSold|YrSold|SalePrice|MSZoning_RH|MSZoning_RL|MSZoning_RM|Street_Pave|Alley_Pave|LotShape_IR2|LotShape_IR3|LotShape_Reg|LandContour_HLS|LandContour_Low|LandContour_Lvl|Utilities_NoSeWa|LotConfig_CulDSac|LotConfig_FR2|LotConfig_FR3|LotConfig_Inside|LandSlope_Mod|LandSlope_Sev|Neighborhood_Blueste|Neighborhood_BrDale|Neighborhood_BrkSide|Neighborhood_ClearCr|Neighborhood_CollgCr|Neighborhood_Crawfor|Neighborhood_Edwards|Neighborhood_Gilbert|Neighborhood_IDOTRR|Neighborhood_MeadowV|Neighborhood_Mitchel|Neighborhood_NAmes|Neighborhood_NPkVill|Neighborhood_NWAmes|Neighborhood_NoRidge|Neighborhood_NridgHt|Neighborhood_OldTown|Neighborhood_SWISU|Neighborhood_Sawyer|Neighborhood_SawyerW|Neighborhood_Somerst|Neighborhood_StoneBr|Neighborhood_Timber|Neighborhood_Veenker|Condition1_Feedr|Condition1_Norm|Condition1_PosA|Condition1_PosN|Condition1_RRAe|Condition1_RRAn|Condition1_RRNe|Condition1_RRNn|Condition2_Feedr|Condition2_Norm|Condition2_PosA|Condition2_PosN|Condition2_RRAe|Condition2_RRAn|Condition2_RRNn|BldgType_2fmCon|BldgType_Duplex|BldgType_Twnhs|BldgType_TwnhsE|HouseStyle_1.5Unf|HouseStyle_1Story|HouseStyle_2.5Fin|HouseStyle_2.5Unf|HouseStyle_2Story|HouseStyle_SFoyer|HouseStyle_SLvl|RoofStyle_Gable|RoofStyle_Gambrel|RoofStyle_Hip|RoofStyle_Mansard|RoofStyle_Shed|RoofMatl_CompShg|RoofMatl_Membran|RoofMatl_Metal|RoofMatl_Roll|RoofMatl_Tar&Grv|RoofMatl_WdShake|RoofMatl_WdShngl|Exterior1st_AsphShn|Exterior1st_BrkComm|Exterior1st_BrkFace|Exterior1st_CBlock|Exterior1st_CemntBd|Exterior1st_HdBoard|Exterior1st_ImStucc|Exterior1st_MetalSd|Exterior1st_Plywood|Exterior1st_Stone|Exterior1st_Stucco|Exterior1st_VinylSd|Exterior1st_Wd Sdng|Exterior1st_WdShing|Exterior2nd_AsphShn|Exterior2nd_Brk Cmn|Exterior2nd_BrkFace|Exterior2nd_CBlock|Exterior2nd_CmentBd|Exterior2nd_HdBoard|Exterior2nd_ImStucc|Exterior2nd_MetalSd|Exterior2nd_Other|Exterior2nd_Plywood|Exterior2nd_Stone|Exterior2nd_Stucco|Exterior2nd_VinylSd|Exterior2nd_Wd Sdng|Exterior2nd_Wd Shng|MasVnrType_BrkFace|MasVnrType_None|MasVnrType_Stone|Foundation_CBlock|Foundation_PConc|Foundation_Slab|Foundation_Stone|Foundation_Wood|Heating_GasA|Heating_GasW|Heating_Grav|Heating_OthW|Heating_Wall|CentralAir_Y|Electrical_FuseF|Electrical_FuseP|Electrical_Mix|Electrical_SBrkr|GarageType_Attchd|GarageType_Basment|GarageType_BuiltIn|GarageType_CarPort|GarageType_Detchd|PavedDrive_P|PavedDrive_Y|MiscFeature_Othr|MiscFeature_Shed|MiscFeature_TenC|SaleType_CWD|SaleType_Con|SaleType_ConLD|SaleType_ConLI|SaleType_ConLw|SaleType_New|SaleType_Oth|SaleType_WD|SaleCondition_AdjLand|SaleCondition_Alloca|SaleCondition_Family|SaleCondition_Normal|SaleCondition_Partial|firstflrsf|secondflrsf|thirdPorch|\n",
            "+---+----------+-----------+-------+-----------+-----------+---------+------------+----------+---------+---------+--------+--------+------------+------------+----------+------------+----------+---------+-----------+---------+------------+---------+------------+------------+--------+--------+------------+------------+-----------+------------+----------+----------+-----------+-----------+------------+----------+----------+----------+----------+----------+-----------+-------------+-----------+--------+------+-----+-------+------+------+---------+-----------+-----------+-----------+-----------+----------+------------+------------+------------+---------------+---------------+---------------+----------------+-----------------+-------------+-------------+----------------+-------------+-------------+--------------------+-------------------+--------------------+--------------------+--------------------+--------------------+--------------------+--------------------+-------------------+--------------------+--------------------+------------------+--------------------+-------------------+--------------------+--------------------+--------------------+------------------+-------------------+--------------------+--------------------+--------------------+-------------------+--------------------+----------------+---------------+---------------+---------------+---------------+---------------+---------------+---------------+----------------+---------------+---------------+---------------+---------------+---------------+---------------+---------------+---------------+--------------+---------------+-----------------+-----------------+-----------------+-----------------+-----------------+-----------------+---------------+---------------+-----------------+-------------+-----------------+--------------+----------------+----------------+--------------+-------------+----------------+----------------+----------------+-------------------+-------------------+-------------------+------------------+-------------------+-------------------+-------------------+-------------------+-------------------+-----------------+------------------+-------------------+-------------------+-------------------+-------------------+-------------------+-------------------+------------------+-------------------+-------------------+-------------------+-------------------+-----------------+-------------------+-----------------+------------------+-------------------+-------------------+-------------------+------------------+---------------+----------------+-----------------+----------------+---------------+----------------+---------------+------------+------------+------------+------------+------------+------------+----------------+----------------+--------------+----------------+-----------------+------------------+------------------+------------------+-----------------+------------+------------+----------------+----------------+----------------+------------+------------+--------------+--------------+--------------+------------+------------+-----------+---------------------+--------------------+--------------------+--------------------+---------------------+----------+-----------+----------+\n",
            "|  1|        60|       65.0|   8450|          7|          5|     2003|        2003|     196.0|        4|        3|       4|       3|           1|           6|       706|           1|         0|      150|        856|        5|           0|     1710|           1|           0|       2|       1|           3|           1|          4|           8|         8|         0|          0|     2003.0|           2|         2|       548|         3|         3|         0|         61|            0|          0|       0|     0|    0|      0|     2|  2008|   208500|          0|          1|          0|          1|         0|           0|           0|           1|              0|              0|              1|               0|                0|            0|            0|               1|            0|            0|                   0|                  0|                   0|                   0|                   1|                   0|                   0|                   0|                  0|                   0|                   0|                 0|                   0|                  0|                   0|                   0|                   0|                 0|                  0|                   0|                   0|                   0|                  0|                   0|               0|              1|              0|              0|              0|              0|              0|              0|               0|              1|              0|              0|              0|              0|              0|              0|              0|             0|              0|                0|                0|                0|                0|                1|                0|              0|              1|                0|            0|                0|             0|               1|               0|             0|            0|               0|               0|               0|                  0|                  0|                  0|                 0|                  0|                  0|                  0|                  0|                  0|                0|                 0|                  1|                  0|                  0|                  0|                  0|                  0|                 0|                  0|                  0|                  0|                  0|                0|                  0|                0|                 0|                  1|                  0|                  0|                 1|              0|               0|                0|               1|              0|               0|              0|           1|           0|           0|           0|           0|           1|               0|               0|             0|               1|                1|                 0|                 0|                 0|                0|           0|           1|               0|               0|               0|           0|           0|             0|             0|             0|           0|           0|          1|                    0|                   0|                   0|                   1|                    0|       856|        854|         0|\n",
            "|  2|        20|       80.0|   9600|          6|          8|     1976|        1976|       0.0|        3|        3|       4|       3|           4|           5|       978|           1|         0|      284|       1262|        5|           0|     1262|           0|           1|       2|       0|           3|           1|          3|           6|         8|         1|          3|     1976.0|           2|         2|       460|         3|         3|       298|          0|            0|          0|       0|     0|    0|      0|     5|  2007|   181500|          0|          1|          0|          1|         0|           0|           0|           1|              0|              0|              1|               0|                0|            1|            0|               0|            0|            0|                   0|                  0|                   0|                   0|                   0|                   0|                   0|                   0|                  0|                   0|                   0|                 0|                   0|                  0|                   0|                   0|                   0|                 0|                  0|                   0|                   0|                   0|                  0|                   1|               1|              0|              0|              0|              0|              0|              0|              0|               0|              1|              0|              0|              0|              0|              0|              0|              0|             0|              0|                0|                1|                0|                0|                0|                0|              0|              1|                0|            0|                0|             0|               1|               0|             0|            0|               0|               0|               0|                  0|                  0|                  0|                 0|                  0|                  0|                  0|                  1|                  0|                0|                 0|                  0|                  0|                  0|                  0|                  0|                  0|                 0|                  0|                  0|                  0|                  1|                0|                  0|                0|                 0|                  0|                  0|                  0|                 0|              1|               0|                1|               0|              0|               0|              0|           1|           0|           0|           0|           0|           1|               0|               0|             0|               1|                1|                 0|                 0|                 0|                0|           0|           1|               0|               0|               0|           0|           0|             0|             0|             0|           0|           0|          1|                    0|                   0|                   0|                   1|                    0|      1262|          0|         0|\n",
            "|  3|        60|       68.0|  11250|          7|          5|     2001|        2002|     162.0|        4|        3|       4|       3|           2|           6|       486|           1|         0|      434|        920|        5|           0|     1786|           1|           0|       2|       1|           3|           1|          4|           6|         8|         1|          3|     2001.0|           2|         2|       608|         3|         3|         0|         42|            0|          0|       0|     0|    0|      0|     9|  2008|   223500|          0|          1|          0|          1|         0|           0|           0|           0|              0|              0|              1|               0|                0|            0|            0|               1|            0|            0|                   0|                  0|                   0|                   0|                   1|                   0|                   0|                   0|                  0|                   0|                   0|                 0|                   0|                  0|                   0|                   0|                   0|                 0|                  0|                   0|                   0|                   0|                  0|                   0|               0|              1|              0|              0|              0|              0|              0|              0|               0|              1|              0|              0|              0|              0|              0|              0|              0|             0|              0|                0|                0|                0|                0|                1|                0|              0|              1|                0|            0|                0|             0|               1|               0|             0|            0|               0|               0|               0|                  0|                  0|                  0|                 0|                  0|                  0|                  0|                  0|                  0|                0|                 0|                  1|                  0|                  0|                  0|                  0|                  0|                 0|                  0|                  0|                  0|                  0|                0|                  0|                0|                 0|                  1|                  0|                  0|                 1|              0|               0|                0|               1|              0|               0|              0|           1|           0|           0|           0|           0|           1|               0|               0|             0|               1|                1|                 0|                 0|                 0|                0|           0|           1|               0|               0|               0|           0|           0|             0|             0|             0|           0|           0|          1|                    0|                   0|                   0|                   1|                    0|       920|        866|         0|\n",
            "|  4|        70|       60.0|   9550|          7|          5|     1915|        1970|       0.0|        3|        3|       3|       4|           1|           5|       216|           1|         0|      540|        756|        4|           0|     1717|           1|           0|       1|       0|           3|           1|          4|           7|         8|         1|          4|     1998.0|           1|         3|       642|         3|         3|         0|         35|          272|          0|       0|     0|    0|      0|     2|  2006|   140000|          0|          1|          0|          1|         0|           0|           0|           0|              0|              0|              1|               0|                0|            0|            0|               0|            0|            0|                   0|                  0|                   0|                   0|                   0|                   1|                   0|                   0|                  0|                   0|                   0|                 0|                   0|                  0|                   0|                   0|                   0|                 0|                  0|                   0|                   0|                   0|                  0|                   0|               0|              1|              0|              0|              0|              0|              0|              0|               0|              1|              0|              0|              0|              0|              0|              0|              0|             0|              0|                0|                0|                0|                0|                1|                0|              0|              1|                0|            0|                0|             0|               1|               0|             0|            0|               0|               0|               0|                  0|                  0|                  0|                 0|                  0|                  0|                  0|                  0|                  0|                0|                 0|                  0|                  1|                  0|                  0|                  0|                  0|                 0|                  0|                  0|                  0|                  0|                0|                  0|                0|                 0|                  0|                  0|                  1|                 0|              1|               0|                0|               0|              0|               0|              0|           1|           0|           0|           0|           0|           1|               0|               0|             0|               1|                0|                 0|                 0|                 0|                1|           0|           1|               0|               0|               0|           0|           0|             0|             0|             0|           0|           0|          1|                    0|                   0|                   0|                   0|                    0|       961|        756|         0|\n",
            "|  5|        60|       84.0|  14260|          8|          5|     2000|        2000|     350.0|        4|        3|       4|       3|           3|           6|       655|           1|         0|      490|       1145|        5|           0|     2198|           1|           0|       2|       1|           4|           1|          4|           9|         8|         1|          3|     2000.0|           2|         3|       836|         3|         3|       192|         84|            0|          0|       0|     0|    0|      0|    12|  2008|   250000|          0|          1|          0|          1|         0|           0|           0|           0|              0|              0|              1|               0|                0|            1|            0|               0|            0|            0|                   0|                  0|                   0|                   0|                   0|                   0|                   0|                   0|                  0|                   0|                   0|                 0|                   0|                  0|                   1|                   0|                   0|                 0|                  0|                   0|                   0|                   0|                  0|                   0|               0|              1|              0|              0|              0|              0|              0|              0|               0|              1|              0|              0|              0|              0|              0|              0|              0|             0|              0|                0|                0|                0|                0|                1|                0|              0|              1|                0|            0|                0|             0|               1|               0|             0|            0|               0|               0|               0|                  0|                  0|                  0|                 0|                  0|                  0|                  0|                  0|                  0|                0|                 0|                  1|                  0|                  0|                  0|                  0|                  0|                 0|                  0|                  0|                  0|                  0|                0|                  0|                0|                 0|                  1|                  0|                  0|                 1|              0|               0|                0|               1|              0|               0|              0|           1|           0|           0|           0|           0|           1|               0|               0|             0|               1|                1|                 0|                 0|                 0|                0|           0|           1|               0|               0|               0|           0|           0|             0|             0|             0|           0|           0|          1|                    0|                   0|                   0|                   1|                    0|      1145|       1053|         0|\n",
            "|  6|        50|       85.0|  14115|          5|          5|     1993|        1995|       0.0|        3|        3|       4|       3|           1|           6|       732|           1|         0|       64|        796|        5|           0|     1362|           1|           0|       1|       1|           1|           1|          3|           5|         8|         0|          0|     1993.0|           1|         2|       480|         3|         3|        40|         30|            0|          0|       0|     0|    3|    700|    10|  2009|   143000|          0|          1|          0|          1|         0|           0|           0|           0|              0|              0|              1|               0|                0|            0|            0|               1|            0|            0|                   0|                  0|                   0|                   0|                   0|                   0|                   0|                   0|                  0|                   0|                   1|                 0|                   0|                  0|                   0|                   0|                   0|                 0|                  0|                   0|                   0|                   0|                  0|                   0|               0|              1|              0|              0|              0|              0|              0|              0|               0|              1|              0|              0|              0|              0|              0|              0|              0|             0|              0|                0|                0|                0|                0|                0|                0|              0|              1|                0|            0|                0|             0|               1|               0|             0|            0|               0|               0|               0|                  0|                  0|                  0|                 0|                  0|                  0|                  0|                  0|                  0|                0|                 0|                  1|                  0|                  0|                  0|                  0|                  0|                 0|                  0|                  0|                  0|                  0|                0|                  0|                0|                 0|                  1|                  0|                  0|                 0|              1|               0|                0|               0|              0|               0|              1|           1|           0|           0|           0|           0|           1|               0|               0|             0|               1|                1|                 0|                 0|                 0|                0|           0|           1|               0|               1|               0|           0|           0|             0|             0|             0|           0|           0|          1|                    0|                   0|                   0|                   1|                    0|       796|        566|       320|\n",
            "|  7|        20|       75.0|  10084|          8|          5|     2004|        2005|     186.0|        4|        3|       5|       3|           3|           6|      1369|           1|         0|      317|       1686|        5|           0|     1694|           1|           0|       2|       0|           3|           1|          4|           7|         8|         1|          4|     2004.0|           2|         2|       636|         3|         3|       255|         57|            0|          0|       0|     0|    0|      0|     8|  2007|   307000|          0|          1|          0|          1|         0|           0|           0|           1|              0|              0|              1|               0|                0|            0|            0|               1|            0|            0|                   0|                  0|                   0|                   0|                   0|                   0|                   0|                   0|                  0|                   0|                   0|                 0|                   0|                  0|                   0|                   0|                   0|                 0|                  0|                   0|                   1|                   0|                  0|                   0|               0|              1|              0|              0|              0|              0|              0|              0|               0|              1|              0|              0|              0|              0|              0|              0|              0|             0|              0|                0|                1|                0|                0|                0|                0|              0|              1|                0|            0|                0|             0|               1|               0|             0|            0|               0|               0|               0|                  0|                  0|                  0|                 0|                  0|                  0|                  0|                  0|                  0|                0|                 0|                  1|                  0|                  0|                  0|                  0|                  0|                 0|                  0|                  0|                  0|                  0|                0|                  0|                0|                 0|                  1|                  0|                  0|                 0|              0|               1|                0|               1|              0|               0|              0|           1|           0|           0|           0|           0|           1|               0|               0|             0|               1|                1|                 0|                 0|                 0|                0|           0|           1|               0|               0|               0|           0|           0|             0|             0|             0|           0|           0|          1|                    0|                   0|                   0|                   1|                    0|      1694|          0|         0|\n",
            "|  8|        60|        0.0|  10382|          7|          6|     1973|        1973|     240.0|        3|        3|       4|       3|           2|           5|       859|           4|        32|      216|       1107|        5|           0|     2090|           1|           0|       2|       1|           3|           1|          3|           7|         8|         2|          3|     1973.0|           2|         2|       484|         3|         3|       235|        204|          228|          0|       0|     0|    0|    350|    11|  2009|   200000|          0|          1|          0|          1|         0|           0|           0|           0|              0|              0|              1|               0|                0|            0|            0|               0|            0|            0|                   0|                  0|                   0|                   0|                   0|                   0|                   0|                   0|                  0|                   0|                   0|                 0|                   0|                  1|                   0|                   0|                   0|                 0|                  0|                   0|                   0|                   0|                  0|                   0|               0|              0|              0|              1|              0|              0|              0|              0|               0|              1|              0|              0|              0|              0|              0|              0|              0|             0|              0|                0|                0|                0|                0|                1|                0|              0|              1|                0|            0|                0|             0|               1|               0|             0|            0|               0|               0|               0|                  0|                  0|                  0|                 0|                  0|                  1|                  0|                  0|                  0|                0|                 0|                  0|                  0|                  0|                  0|                  0|                  0|                 0|                  0|                  1|                  0|                  0|                0|                  0|                0|                 0|                  0|                  0|                  0|                 0|              0|               1|                1|               0|              0|               0|              0|           1|           0|           0|           0|           0|           1|               0|               0|             0|               1|                1|                 0|                 0|                 0|                0|           0|           1|               0|               1|               0|           0|           0|             0|             0|             0|           0|           0|          1|                    0|                   0|                   0|                   1|                    0|      1107|        983|         0|\n",
            "|  9|        50|       51.0|   6120|          7|          5|     1931|        1950|       0.0|        3|        3|       3|       3|           1|           1|         0|           1|         0|      952|        952|        4|           0|     1774|           0|           0|       2|       0|           2|           2|          3|           8|         7|         2|          3|     1931.0|           1|         2|       468|         2|         3|        90|          0|          205|          0|       0|     0|    0|      0|     4|  2008|   129900|          0|          0|          1|          1|         0|           0|           0|           1|              0|              0|              1|               0|                0|            0|            0|               1|            0|            0|                   0|                  0|                   0|                   0|                   0|                   0|                   0|                   0|                  0|                   0|                   0|                 0|                   0|                  0|                   0|                   0|                   1|                 0|                  0|                   0|                   0|                   0|                  0|                   0|               0|              0|              0|              0|              0|              0|              0|              0|               0|              1|              0|              0|              0|              0|              0|              0|              0|             0|              0|                0|                0|                0|                0|                0|                0|              0|              1|                0|            0|                0|             0|               1|               0|             0|            0|               0|               0|               0|                  0|                  0|                  1|                 0|                  0|                  0|                  0|                  0|                  0|                0|                 0|                  0|                  0|                  0|                  0|                  0|                  0|                 0|                  0|                  0|                  0|                  0|                0|                  0|                0|                 0|                  0|                  0|                  1|                 0|              1|               0|                0|               0|              0|               0|              0|           1|           0|           0|           0|           0|           1|               1|               0|             0|               0|                0|                 0|                 0|                 0|                1|           0|           1|               0|               0|               0|           0|           0|             0|             0|             0|           0|           0|          1|                    0|                   0|                   0|                   0|                    0|      1022|        752|         0|\n",
            "| 10|       190|       50.0|   7420|          5|          6|     1939|        1950|       0.0|        3|        3|       3|       3|           1|           6|       851|           1|         0|      140|        991|        5|           0|     1077|           1|           0|       1|       0|           2|           2|          3|           5|         8|         2|          3|     1939.0|           2|         1|       205|         4|         3|         0|          4|            0|          0|       0|     0|    0|      0|     1|  2008|   118000|          0|          1|          0|          1|         0|           0|           0|           1|              0|              0|              1|               0|                0|            0|            0|               0|            0|            0|                   0|                  0|                   1|                   0|                   0|                   0|                   0|                   0|                  0|                   0|                   0|                 0|                   0|                  0|                   0|                   0|                   0|                 0|                  0|                   0|                   0|                   0|                  0|                   0|               0|              0|              0|              0|              0|              0|              0|              0|               0|              0|              0|              0|              0|              0|              0|              1|              0|             0|              0|                1|                0|                0|                0|                0|                0|              0|              1|                0|            0|                0|             0|               1|               0|             0|            0|               0|               0|               0|                  0|                  0|                  0|                 0|                  0|                  0|                  0|                  1|                  0|                0|                 0|                  0|                  0|                  0|                  0|                  0|                  0|                 0|                  0|                  0|                  0|                  1|                0|                  0|                0|                 0|                  0|                  0|                  0|                 0|              1|               0|                0|               0|              0|               0|              0|           1|           0|           0|           0|           0|           1|               0|               0|             0|               1|                1|                 0|                 0|                 0|                0|           0|           1|               0|               0|               0|           0|           0|             0|             0|             0|           0|           0|          1|                    0|                   0|                   0|                   1|                    0|      1077|          0|         0|\n",
            "+---+----------+-----------+-------+-----------+-----------+---------+------------+----------+---------+---------+--------+--------+------------+------------+----------+------------+----------+---------+-----------+---------+------------+---------+------------+------------+--------+--------+------------+------------+-----------+------------+----------+----------+-----------+-----------+------------+----------+----------+----------+----------+----------+-----------+-------------+-----------+--------+------+-----+-------+------+------+---------+-----------+-----------+-----------+-----------+----------+------------+------------+------------+---------------+---------------+---------------+----------------+-----------------+-------------+-------------+----------------+-------------+-------------+--------------------+-------------------+--------------------+--------------------+--------------------+--------------------+--------------------+--------------------+-------------------+--------------------+--------------------+------------------+--------------------+-------------------+--------------------+--------------------+--------------------+------------------+-------------------+--------------------+--------------------+--------------------+-------------------+--------------------+----------------+---------------+---------------+---------------+---------------+---------------+---------------+---------------+----------------+---------------+---------------+---------------+---------------+---------------+---------------+---------------+---------------+--------------+---------------+-----------------+-----------------+-----------------+-----------------+-----------------+-----------------+---------------+---------------+-----------------+-------------+-----------------+--------------+----------------+----------------+--------------+-------------+----------------+----------------+----------------+-------------------+-------------------+-------------------+------------------+-------------------+-------------------+-------------------+-------------------+-------------------+-----------------+------------------+-------------------+-------------------+-------------------+-------------------+-------------------+-------------------+------------------+-------------------+-------------------+-------------------+-------------------+-----------------+-------------------+-----------------+------------------+-------------------+-------------------+-------------------+------------------+---------------+----------------+-----------------+----------------+---------------+----------------+---------------+------------+------------+------------+------------+------------+------------+----------------+----------------+--------------+----------------+-----------------+------------------+------------------+------------------+-----------------+------------+------------+----------------+----------------+----------------+------------+------------+--------------+--------------+--------------+------------+------------+-----------+---------------------+--------------------+--------------------+--------------------+---------------------+----------+-----------+----------+\n",
            "only showing top 10 rows\n",
            "\n"
          ],
          "name": "stdout"
        }
      ]
    },
    {
      "cell_type": "code",
      "metadata": {
        "colab": {
          "base_uri": "https://localhost:8080/"
        },
        "id": "JVz8dN8ZS3FV",
        "outputId": "ee6e50a7-da4f-4978-ec30-48cc75eb7e08"
      },
      "source": [
        "#Get the Feature names\n",
        "import pandas as pd\n",
        "\n",
        "features = [col for col in df.columns]\n",
        "print(features)\n",
        "\n",
        "print(type(features))"
      ],
      "execution_count": 5,
      "outputs": [
        {
          "output_type": "stream",
          "text": [
            "['Id', 'MSSubClass', 'LotFrontage', 'LotArea', 'OverallQual', 'OverallCond', 'YearBuilt', 'YearRemodAdd', 'MasVnrArea', 'ExterQual', 'ExterCond', 'BsmtQual', 'BsmtCond', 'BsmtExposure', 'BsmtFinType1', 'BsmtFinSF1', 'BsmtFinType2', 'BsmtFinSF2', 'BsmtUnfSF', 'TotalBsmtSF', 'HeatingQC', 'LowQualFinSF', 'GrLivArea', 'BsmtFullBath', 'BsmtHalfBath', 'FullBath', 'HalfBath', 'BedroomAbvGr', 'KitchenAbvGr', 'KitchenQual', 'TotRmsAbvGrd', 'Functional', 'Fireplaces', 'FireplaceQu', 'GarageYrBlt', 'GarageFinish', 'GarageCars', 'GarageArea', 'GarageQual', 'GarageCond', 'WoodDeckSF', 'OpenPorchSF', 'EnclosedPorch', 'ScreenPorch', 'PoolArea', 'PoolQC', 'Fence', 'MiscVal', 'MoSold', 'YrSold', 'SalePrice', 'MSZoning_RH', 'MSZoning_RL', 'MSZoning_RM', 'Street_Pave', 'Alley_Pave', 'LotShape_IR2', 'LotShape_IR3', 'LotShape_Reg', 'LandContour_HLS', 'LandContour_Low', 'LandContour_Lvl', 'Utilities_NoSeWa', 'LotConfig_CulDSac', 'LotConfig_FR2', 'LotConfig_FR3', 'LotConfig_Inside', 'LandSlope_Mod', 'LandSlope_Sev', 'Neighborhood_Blueste', 'Neighborhood_BrDale', 'Neighborhood_BrkSide', 'Neighborhood_ClearCr', 'Neighborhood_CollgCr', 'Neighborhood_Crawfor', 'Neighborhood_Edwards', 'Neighborhood_Gilbert', 'Neighborhood_IDOTRR', 'Neighborhood_MeadowV', 'Neighborhood_Mitchel', 'Neighborhood_NAmes', 'Neighborhood_NPkVill', 'Neighborhood_NWAmes', 'Neighborhood_NoRidge', 'Neighborhood_NridgHt', 'Neighborhood_OldTown', 'Neighborhood_SWISU', 'Neighborhood_Sawyer', 'Neighborhood_SawyerW', 'Neighborhood_Somerst', 'Neighborhood_StoneBr', 'Neighborhood_Timber', 'Neighborhood_Veenker', 'Condition1_Feedr', 'Condition1_Norm', 'Condition1_PosA', 'Condition1_PosN', 'Condition1_RRAe', 'Condition1_RRAn', 'Condition1_RRNe', 'Condition1_RRNn', 'Condition2_Feedr', 'Condition2_Norm', 'Condition2_PosA', 'Condition2_PosN', 'Condition2_RRAe', 'Condition2_RRAn', 'Condition2_RRNn', 'BldgType_2fmCon', 'BldgType_Duplex', 'BldgType_Twnhs', 'BldgType_TwnhsE', 'HouseStyle_1.5Unf', 'HouseStyle_1Story', 'HouseStyle_2.5Fin', 'HouseStyle_2.5Unf', 'HouseStyle_2Story', 'HouseStyle_SFoyer', 'HouseStyle_SLvl', 'RoofStyle_Gable', 'RoofStyle_Gambrel', 'RoofStyle_Hip', 'RoofStyle_Mansard', 'RoofStyle_Shed', 'RoofMatl_CompShg', 'RoofMatl_Membran', 'RoofMatl_Metal', 'RoofMatl_Roll', 'RoofMatl_Tar&Grv', 'RoofMatl_WdShake', 'RoofMatl_WdShngl', 'Exterior1st_AsphShn', 'Exterior1st_BrkComm', 'Exterior1st_BrkFace', 'Exterior1st_CBlock', 'Exterior1st_CemntBd', 'Exterior1st_HdBoard', 'Exterior1st_ImStucc', 'Exterior1st_MetalSd', 'Exterior1st_Plywood', 'Exterior1st_Stone', 'Exterior1st_Stucco', 'Exterior1st_VinylSd', 'Exterior1st_Wd Sdng', 'Exterior1st_WdShing', 'Exterior2nd_AsphShn', 'Exterior2nd_Brk Cmn', 'Exterior2nd_BrkFace', 'Exterior2nd_CBlock', 'Exterior2nd_CmentBd', 'Exterior2nd_HdBoard', 'Exterior2nd_ImStucc', 'Exterior2nd_MetalSd', 'Exterior2nd_Other', 'Exterior2nd_Plywood', 'Exterior2nd_Stone', 'Exterior2nd_Stucco', 'Exterior2nd_VinylSd', 'Exterior2nd_Wd Sdng', 'Exterior2nd_Wd Shng', 'MasVnrType_BrkFace', 'MasVnrType_None', 'MasVnrType_Stone', 'Foundation_CBlock', 'Foundation_PConc', 'Foundation_Slab', 'Foundation_Stone', 'Foundation_Wood', 'Heating_GasA', 'Heating_GasW', 'Heating_Grav', 'Heating_OthW', 'Heating_Wall', 'CentralAir_Y', 'Electrical_FuseF', 'Electrical_FuseP', 'Electrical_Mix', 'Electrical_SBrkr', 'GarageType_Attchd', 'GarageType_Basment', 'GarageType_BuiltIn', 'GarageType_CarPort', 'GarageType_Detchd', 'PavedDrive_P', 'PavedDrive_Y', 'MiscFeature_Othr', 'MiscFeature_Shed', 'MiscFeature_TenC', 'SaleType_CWD', 'SaleType_Con', 'SaleType_ConLD', 'SaleType_ConLI', 'SaleType_ConLw', 'SaleType_New', 'SaleType_Oth', 'SaleType_WD', 'SaleCondition_AdjLand', 'SaleCondition_Alloca', 'SaleCondition_Family', 'SaleCondition_Normal', 'SaleCondition_Partial', 'firstflrsf', 'secondflrsf', 'thirdPorch']\n",
            "<class 'list'>\n"
          ],
          "name": "stdout"
        }
      ]
    },
    {
      "cell_type": "code",
      "metadata": {
        "id": "IvfmhDvsS8-F"
      },
      "source": [
        "#Import sklearn tools and dependencies\n",
        "from sklearn.ensemble import RandomForestClassifier\n",
        "from sklearn.model_selection import train_test_split"
      ],
      "execution_count": 6,
      "outputs": []
    },
    {
      "cell_type": "code",
      "metadata": {
        "colab": {
          "base_uri": "https://localhost:8080/"
        },
        "id": "bXGQrrQlS93Q",
        "outputId": "e1e46806-c9e6-4b44-822b-00f198f3327c"
      },
      "source": [
        "# Assign the data to X and y\n",
        "\n",
        "X1 = df[[\"firstflrsf\", \"GrLivArea\", \"LotArea\", \"GarageArea\", \"BsmtUnfSF\", \"TotalBsmtSF\", \"LotFrontage\", \"GarageYrBlt\", \"MoSold\", \"YearBuilt\"]]\n",
        "y1 = df[\"SalePrice\"]\n",
        "print(X1.shape, y1.shape)"
      ],
      "execution_count": 7,
      "outputs": [
        {
          "output_type": "stream",
          "text": [
            "(1450, 10) (1450,)\n"
          ],
          "name": "stdout"
        }
      ]
    },
    {
      "cell_type": "code",
      "metadata": {
        "id": "FDiLkxCtTObV"
      },
      "source": [
        "# Use train_test_split to create training and testing data\n",
        "\n",
        "### BEGIN SOLUTION\n",
        "from sklearn.model_selection import train_test_split\n",
        "\n",
        "X1_train, X1_test, y1_train, y1_test = train_test_split(X1, y1, random_state=20, test_size=0.20)\n",
        "\n",
        "### END SOLUTION"
      ],
      "execution_count": 8,
      "outputs": []
    },
    {
      "cell_type": "code",
      "metadata": {
        "id": "5-NxTTydTQjo"
      },
      "source": [
        "# Create the model using RandomForestRegressor\n",
        "\n",
        "### BEGIN SOLUTION\n",
        "from sklearn.ensemble import RandomForestRegressor\n",
        "model_1 = RandomForestRegressor(random_state=20)\n",
        "### END SOLUTION"
      ],
      "execution_count": 9,
      "outputs": []
    },
    {
      "cell_type": "code",
      "metadata": {
        "colab": {
          "base_uri": "https://localhost:8080/"
        },
        "id": "IDceuA6OTSy7",
        "outputId": "f28fed65-3040-4136-e0d9-262ec33c5f43"
      },
      "source": [
        "# Fit the model to the training data and calculate the scores for the training and testing data\n",
        "\n",
        "### BEGIN SOLUTION\n",
        "model_1.fit(X1_train, y1_train)\n",
        "training_score_1 = model_1.score(X1_train, y1_train)\n",
        "testing_score_1 = model_1.score(X1_test, y1_test)\n",
        "\n",
        "### END SOLUTION \n",
        "\n",
        "print(f\"Training Score: {training_score_1}\")\n",
        "print(f\"Testing Score: {testing_score_1}\")"
      ],
      "execution_count": 10,
      "outputs": [
        {
          "output_type": "stream",
          "text": [
            "Training Score: 0.9710859100169942\n",
            "Testing Score: 0.8481625749923379\n"
          ],
          "name": "stdout"
        }
      ]
    },
    {
      "cell_type": "code",
      "metadata": {
        "colab": {
          "base_uri": "https://localhost:8080/"
        },
        "id": "plSoCmJPemeJ",
        "outputId": "4a9cf9f3-e6c4-48fb-b992-1387eae7c9d0"
      },
      "source": [
        "# Assign the data to X and y\n",
        "\n",
        "X = df[[\"firstflrsf\", \"GrLivArea\", \"LotArea\", \"GarageArea\", \"BsmtUnfSF\", \"TotalBsmtSF\", \"LotFrontage\", \"GarageYrBlt\", \"MoSold\", \"YearBuilt\"]]\n",
        "y = df[\"SalePrice\"]\n",
        "print(X.shape, y.shape)"
      ],
      "execution_count": 12,
      "outputs": [
        {
          "output_type": "stream",
          "text": [
            "(1450, 10) (1450,)\n"
          ],
          "name": "stdout"
        }
      ]
    },
    {
      "cell_type": "code",
      "metadata": {
        "id": "6rbKi2pJWZO3"
      },
      "source": [
        "# Create the model using RandomForestRegressor\n",
        "\n",
        "### BEGIN SOLUTION\n",
        "from sklearn.ensemble import RandomForestRegressor\n",
        "model = RandomForestRegressor(random_state=20)\n",
        "### END SOLUTION"
      ],
      "execution_count": 14,
      "outputs": []
    },
    {
      "cell_type": "code",
      "metadata": {
        "id": "x6ijs3qrWZZX",
        "colab": {
          "base_uri": "https://localhost:8080/"
        },
        "outputId": "460dfe12-f8e8-4a2d-9e7c-54ee0fcb99b2"
      },
      "source": [
        "# Fit the model to the training data and calculate the scores for the training and testing data\n",
        "\n",
        "### BEGIN SOLUTION\n",
        "model.fit(X, y)\n",
        "score = model.score(X, y)\n",
        "\n",
        "### END SOLUTION \n",
        "\n",
        "print(f\"Score: {score}\")"
      ],
      "execution_count": 15,
      "outputs": [
        {
          "output_type": "stream",
          "text": [
            "Score: 0.9756465457997536\n"
          ],
          "name": "stdout"
        }
      ]
    },
    {
      "cell_type": "code",
      "metadata": {
        "id": "liNKjB6ogx3W"
      },
      "source": [
        "import pickle\n",
        "\n",
        "pickle.dump(model, open(\"VLC_Ames_Housing_Price_Model\", 'wb'))"
      ],
      "execution_count": 16,
      "outputs": []
    },
    {
      "cell_type": "code",
      "metadata": {
        "id": "A84KDSDwbbaf"
      },
      "source": [
        ""
      ],
      "execution_count": null,
      "outputs": []
    }
  ]
}