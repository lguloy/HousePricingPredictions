{
  "nbformat": 4,
  "nbformat_minor": 0,
  "metadata": {
    "colab": {
      "name": "Feature_Importances.ipynb",
      "provenance": [],
      "collapsed_sections": []
    },
    "kernelspec": {
      "name": "python3",
      "display_name": "Python 3"
    },
    "language_info": {
      "name": "python"
    }
  },
  "cells": [
    {
      "cell_type": "markdown",
      "metadata": {
        "id": "PRFPir7FSEd7"
      },
      "source": [
        "# **FEATURE IMPORTANCE**\n"
      ]
    },
    {
      "cell_type": "markdown",
      "metadata": {
        "id": "msY8t8hwTAyn"
      },
      "source": [
        "First need to get the database from PostGRES"
      ]
    },
    {
      "cell_type": "code",
      "metadata": {
        "colab": {
          "base_uri": "https://localhost:8080/"
        },
        "id": "JKP8c2XFLc3i",
        "outputId": "ac2ed166-0810-4ffb-a026-ad9b19b1bfaa"
      },
      "source": [
        "import os\n",
        "# Find the latest version of spark 3.0  from http://www-us.apache.org/dist/spark/ and enter as the spark version\n",
        "# For example:\n",
        "spark_version = 'spark-3.0.3'\n",
        "# spark_version = 'spark-3.<enter version>'\n",
        "os.environ['SPARK_VERSION']=spark_version\n",
        "\n",
        "# Install Spark and Java\n",
        "!apt-get update\n",
        "!apt-get install openjdk-11-jdk-headless -qq > /dev/null\n",
        "!wget -q http://www-us.apache.org/dist/spark/$SPARK_VERSION/$SPARK_VERSION-bin-hadoop2.7.tgz\n",
        "!tar xf $SPARK_VERSION-bin-hadoop2.7.tgz\n",
        "!pip install -q findspark\n",
        "\n",
        "# Set Environment Variables\n",
        "os.environ[\"JAVA_HOME\"] = \"/usr/lib/jvm/java-11-openjdk-amd64\"\n",
        "os.environ[\"SPARK_HOME\"] = f\"/content/{spark_version}-bin-hadoop2.7\"\n",
        "\n",
        "# Start a SparkSession\n",
        "import findspark\n",
        "findspark.init()"
      ],
      "execution_count": 1,
      "outputs": [
        {
          "output_type": "stream",
          "text": [
            "Get:1 https://cloud.r-project.org/bin/linux/ubuntu bionic-cran40/ InRelease [3,626 B]\n",
            "Ign:2 https://developer.download.nvidia.com/compute/cuda/repos/ubuntu1804/x86_64  InRelease\n",
            "Get:3 http://security.ubuntu.com/ubuntu bionic-security InRelease [88.7 kB]\n",
            "Ign:4 https://developer.download.nvidia.com/compute/machine-learning/repos/ubuntu1804/x86_64  InRelease\n",
            "Get:5 https://developer.download.nvidia.com/compute/cuda/repos/ubuntu1804/x86_64  Release [697 B]\n",
            "Hit:6 https://developer.download.nvidia.com/compute/machine-learning/repos/ubuntu1804/x86_64  Release\n",
            "Get:7 https://developer.download.nvidia.com/compute/cuda/repos/ubuntu1804/x86_64  Release.gpg [836 B]\n",
            "Hit:9 http://archive.ubuntu.com/ubuntu bionic InRelease\n",
            "Get:10 http://ppa.launchpad.net/c2d4u.team/c2d4u4.0+/ubuntu bionic InRelease [15.9 kB]\n",
            "Get:11 http://archive.ubuntu.com/ubuntu bionic-updates InRelease [88.7 kB]\n",
            "Ign:12 https://developer.download.nvidia.com/compute/cuda/repos/ubuntu1804/x86_64  Packages\n",
            "Get:12 https://developer.download.nvidia.com/compute/cuda/repos/ubuntu1804/x86_64  Packages [634 kB]\n",
            "Hit:13 http://ppa.launchpad.net/cran/libgit2/ubuntu bionic InRelease\n",
            "Get:14 http://security.ubuntu.com/ubuntu bionic-security/universe amd64 Packages [1,418 kB]\n",
            "Get:15 http://archive.ubuntu.com/ubuntu bionic-backports InRelease [74.6 kB]\n",
            "Get:16 http://ppa.launchpad.net/deadsnakes/ppa/ubuntu bionic InRelease [15.9 kB]\n",
            "Get:17 http://archive.ubuntu.com/ubuntu bionic-updates/restricted amd64 Packages [506 kB]\n",
            "Get:18 http://security.ubuntu.com/ubuntu bionic-security/main amd64 Packages [2,221 kB]\n",
            "Get:19 http://ppa.launchpad.net/graphics-drivers/ppa/ubuntu bionic InRelease [21.3 kB]\n",
            "Get:20 http://archive.ubuntu.com/ubuntu bionic-updates/main amd64 Packages [2,656 kB]\n",
            "Get:21 http://security.ubuntu.com/ubuntu bionic-security/restricted amd64 Packages [473 kB]\n",
            "Get:22 http://ppa.launchpad.net/c2d4u.team/c2d4u4.0+/ubuntu bionic/main Sources [1,777 kB]\n",
            "Get:23 http://archive.ubuntu.com/ubuntu bionic-updates/universe amd64 Packages [2,188 kB]\n",
            "Get:24 http://ppa.launchpad.net/c2d4u.team/c2d4u4.0+/ubuntu bionic/main amd64 Packages [909 kB]\n",
            "Get:25 http://ppa.launchpad.net/deadsnakes/ppa/ubuntu bionic/main amd64 Packages [40.9 kB]\n",
            "Get:26 http://ppa.launchpad.net/graphics-drivers/ppa/ubuntu bionic/main amd64 Packages [41.5 kB]\n",
            "Fetched 13.2 MB in 8s (1,557 kB/s)\n",
            "Reading package lists... Done\n"
          ],
          "name": "stdout"
        }
      ]
    },
    {
      "cell_type": "code",
      "metadata": {
        "id": "1goLgKYjMDLG"
      },
      "source": [
        "from pyspark.sql import SparkSession\n",
        "spark = SparkSession.builder.appName(\"CloudETL\").config(\"spark.driver.extraClassPath\",\"/content/postgresql-42.2.9.jar\").getOrCreate()"
      ],
      "execution_count": 2,
      "outputs": []
    },
    {
      "cell_type": "code",
      "metadata": {
        "colab": {
          "base_uri": "https://localhost:8080/"
        },
        "id": "qTxs-NbZMXEc",
        "outputId": "36ec8c68-547f-465c-d6dc-194d7a33b2c0"
      },
      "source": [
        "from pyspark import SparkFiles\n",
        "# Load in train.csv from S3 into a DataFrame\n",
        "url = \"https://finalprojectbootcamp.s3.us-east-2.amazonaws.com/train_converted_df.csv\"\n",
        "spark.sparkContext.addFile(url)\n",
        "\n",
        "df = spark.read.option('header', 'true').csv(SparkFiles.get(\"train_converted_df.csv\"), inferSchema=True, sep=',', timestampFormat=\"mm/dd/yy\")\n",
        "df.show(10)\n",
        "\n",
        "#Convert to Pandas to allow train_test_split usage\n",
        "df = df.select(\"*\").toPandas()\n",
        "df = df.dropna(how=\"any\")"
      ],
      "execution_count": 3,
      "outputs": [
        {
          "output_type": "stream",
          "text": [
            "+---+----------+-----------+-------+-----------+-----------+---------+------------+----------+---------+---------+--------+--------+------------+------------+----------+------------+----------+---------+-----------+---------+--------+--------+------------+---------+------------+------------+--------+--------+------------+------------+-----------+------------+----------+----------+-----------+-----------+------------+----------+----------+----------+----------+----------+-----------+-------------+---------+-----------+--------+------+-----+-------+------+------+---------+-----------+-----------+-----------+-----------+-----------+----------+------------+------------+------------+---------------+---------------+---------------+----------------+-----------------+-------------+-------------+----------------+-------------+-------------+--------------------+-------------------+--------------------+--------------------+--------------------+--------------------+--------------------+--------------------+-------------------+--------------------+--------------------+------------------+--------------------+-------------------+--------------------+--------------------+--------------------+------------------+-------------------+--------------------+--------------------+--------------------+-------------------+--------------------+----------------+---------------+---------------+---------------+---------------+---------------+---------------+---------------+----------------+---------------+---------------+---------------+---------------+---------------+---------------+---------------+---------------+--------------+---------------+-----------------+-----------------+-----------------+-----------------+-----------------+-----------------+---------------+---------------+-----------------+-------------+-----------------+--------------+----------------+----------------+--------------+-------------+----------------+----------------+----------------+-------------------+-------------------+-------------------+------------------+-------------------+-------------------+-------------------+-------------------+-------------------+-----------------+------------------+-------------------+-------------------+-------------------+-------------------+-------------------+-------------------+------------------+-------------------+-------------------+-------------------+-------------------+-----------------+-------------------+-----------------+------------------+-------------------+-------------------+-------------------+------------------+---------------+----------------+-----------------+----------------+---------------+----------------+---------------+------------+------------+------------+------------+------------+------------+----------------+----------------+--------------+----------------+-----------------+------------------+------------------+------------------+-----------------+------------+------------+----------------+----------------+----------------+------------+------------+--------------+--------------+--------------+------------+------------+-----------+---------------------+--------------------+--------------------+--------------------+---------------------+\n",
            "| Id|MSSubClass|LotFrontage|LotArea|OverallQual|OverallCond|YearBuilt|YearRemodAdd|MasVnrArea|ExterQual|ExterCond|BsmtQual|BsmtCond|BsmtExposure|BsmtFinType1|BsmtFinSF1|BsmtFinType2|BsmtFinSF2|BsmtUnfSF|TotalBsmtSF|HeatingQC|1stFlrSF|2ndFlrSF|LowQualFinSF|GrLivArea|BsmtFullBath|BsmtHalfBath|FullBath|HalfBath|BedroomAbvGr|KitchenAbvGr|KitchenQual|TotRmsAbvGrd|Functional|Fireplaces|FireplaceQu|GarageYrBlt|GarageFinish|GarageCars|GarageArea|GarageQual|GarageCond|WoodDeckSF|OpenPorchSF|EnclosedPorch|3SsnPorch|ScreenPorch|PoolArea|PoolQC|Fence|MiscVal|MoSold|YrSold|SalePrice|MSZoning_FV|MSZoning_RH|MSZoning_RL|MSZoning_RM|Street_Pave|Alley_Pave|LotShape_IR2|LotShape_IR3|LotShape_Reg|LandContour_HLS|LandContour_Low|LandContour_Lvl|Utilities_NoSeWa|LotConfig_CulDSac|LotConfig_FR2|LotConfig_FR3|LotConfig_Inside|LandSlope_Mod|LandSlope_Sev|Neighborhood_Blueste|Neighborhood_BrDale|Neighborhood_BrkSide|Neighborhood_ClearCr|Neighborhood_CollgCr|Neighborhood_Crawfor|Neighborhood_Edwards|Neighborhood_Gilbert|Neighborhood_IDOTRR|Neighborhood_MeadowV|Neighborhood_Mitchel|Neighborhood_NAmes|Neighborhood_NPkVill|Neighborhood_NWAmes|Neighborhood_NoRidge|Neighborhood_NridgHt|Neighborhood_OldTown|Neighborhood_SWISU|Neighborhood_Sawyer|Neighborhood_SawyerW|Neighborhood_Somerst|Neighborhood_StoneBr|Neighborhood_Timber|Neighborhood_Veenker|Condition1_Feedr|Condition1_Norm|Condition1_PosA|Condition1_PosN|Condition1_RRAe|Condition1_RRAn|Condition1_RRNe|Condition1_RRNn|Condition2_Feedr|Condition2_Norm|Condition2_PosA|Condition2_PosN|Condition2_RRAe|Condition2_RRAn|Condition2_RRNn|BldgType_2fmCon|BldgType_Duplex|BldgType_Twnhs|BldgType_TwnhsE|HouseStyle_1.5Unf|HouseStyle_1Story|HouseStyle_2.5Fin|HouseStyle_2.5Unf|HouseStyle_2Story|HouseStyle_SFoyer|HouseStyle_SLvl|RoofStyle_Gable|RoofStyle_Gambrel|RoofStyle_Hip|RoofStyle_Mansard|RoofStyle_Shed|RoofMatl_CompShg|RoofMatl_Membran|RoofMatl_Metal|RoofMatl_Roll|RoofMatl_Tar&Grv|RoofMatl_WdShake|RoofMatl_WdShngl|Exterior1st_AsphShn|Exterior1st_BrkComm|Exterior1st_BrkFace|Exterior1st_CBlock|Exterior1st_CemntBd|Exterior1st_HdBoard|Exterior1st_ImStucc|Exterior1st_MetalSd|Exterior1st_Plywood|Exterior1st_Stone|Exterior1st_Stucco|Exterior1st_VinylSd|Exterior1st_Wd Sdng|Exterior1st_WdShing|Exterior2nd_AsphShn|Exterior2nd_Brk Cmn|Exterior2nd_BrkFace|Exterior2nd_CBlock|Exterior2nd_CmentBd|Exterior2nd_HdBoard|Exterior2nd_ImStucc|Exterior2nd_MetalSd|Exterior2nd_Other|Exterior2nd_Plywood|Exterior2nd_Stone|Exterior2nd_Stucco|Exterior2nd_VinylSd|Exterior2nd_Wd Sdng|Exterior2nd_Wd Shng|MasVnrType_BrkFace|MasVnrType_None|MasVnrType_Stone|Foundation_CBlock|Foundation_PConc|Foundation_Slab|Foundation_Stone|Foundation_Wood|Heating_GasA|Heating_GasW|Heating_Grav|Heating_OthW|Heating_Wall|CentralAir_Y|Electrical_FuseF|Electrical_FuseP|Electrical_Mix|Electrical_SBrkr|GarageType_Attchd|GarageType_Basment|GarageType_BuiltIn|GarageType_CarPort|GarageType_Detchd|PavedDrive_P|PavedDrive_Y|MiscFeature_Othr|MiscFeature_Shed|MiscFeature_TenC|SaleType_CWD|SaleType_Con|SaleType_ConLD|SaleType_ConLI|SaleType_ConLw|SaleType_New|SaleType_Oth|SaleType_WD|SaleCondition_AdjLand|SaleCondition_Alloca|SaleCondition_Family|SaleCondition_Normal|SaleCondition_Partial|\n",
            "+---+----------+-----------+-------+-----------+-----------+---------+------------+----------+---------+---------+--------+--------+------------+------------+----------+------------+----------+---------+-----------+---------+--------+--------+------------+---------+------------+------------+--------+--------+------------+------------+-----------+------------+----------+----------+-----------+-----------+------------+----------+----------+----------+----------+----------+-----------+-------------+---------+-----------+--------+------+-----+-------+------+------+---------+-----------+-----------+-----------+-----------+-----------+----------+------------+------------+------------+---------------+---------------+---------------+----------------+-----------------+-------------+-------------+----------------+-------------+-------------+--------------------+-------------------+--------------------+--------------------+--------------------+--------------------+--------------------+--------------------+-------------------+--------------------+--------------------+------------------+--------------------+-------------------+--------------------+--------------------+--------------------+------------------+-------------------+--------------------+--------------------+--------------------+-------------------+--------------------+----------------+---------------+---------------+---------------+---------------+---------------+---------------+---------------+----------------+---------------+---------------+---------------+---------------+---------------+---------------+---------------+---------------+--------------+---------------+-----------------+-----------------+-----------------+-----------------+-----------------+-----------------+---------------+---------------+-----------------+-------------+-----------------+--------------+----------------+----------------+--------------+-------------+----------------+----------------+----------------+-------------------+-------------------+-------------------+------------------+-------------------+-------------------+-------------------+-------------------+-------------------+-----------------+------------------+-------------------+-------------------+-------------------+-------------------+-------------------+-------------------+------------------+-------------------+-------------------+-------------------+-------------------+-----------------+-------------------+-----------------+------------------+-------------------+-------------------+-------------------+------------------+---------------+----------------+-----------------+----------------+---------------+----------------+---------------+------------+------------+------------+------------+------------+------------+----------------+----------------+--------------+----------------+-----------------+------------------+------------------+------------------+-----------------+------------+------------+----------------+----------------+----------------+------------+------------+--------------+--------------+--------------+------------+------------+-----------+---------------------+--------------------+--------------------+--------------------+---------------------+\n",
            "|  1|        60|       65.0|   8450|          7|          5|     2003|        2003|     196.0|        4|        3|     4.0|     3.0|         1.0|         6.0|       706|         1.0|         0|      150|        856|        5|     856|     854|           0|     1710|           1|           0|       2|       1|           3|           1|          4|           8|         8|         0|       null|     2003.0|         2.0|         2|       548|       3.0|       3.0|         0|         61|            0|        0|          0|       0|  null| null|      0|     2|  2008|   208500|          0|          0|          1|          0|          1|         0|           0|           0|           1|              0|              0|              1|               0|                0|            0|            0|               1|            0|            0|                   0|                  0|                   0|                   0|                   1|                   0|                   0|                   0|                  0|                   0|                   0|                 0|                   0|                  0|                   0|                   0|                   0|                 0|                  0|                   0|                   0|                   0|                  0|                   0|               0|              1|              0|              0|              0|              0|              0|              0|               0|              1|              0|              0|              0|              0|              0|              0|              0|             0|              0|                0|                0|                0|                0|                1|                0|              0|              1|                0|            0|                0|             0|               1|               0|             0|            0|               0|               0|               0|                  0|                  0|                  0|                 0|                  0|                  0|                  0|                  0|                  0|                0|                 0|                  1|                  0|                  0|                  0|                  0|                  0|                 0|                  0|                  0|                  0|                  0|                0|                  0|                0|                 0|                  1|                  0|                  0|                 1|              0|               0|                0|               1|              0|               0|              0|           1|           0|           0|           0|           0|           1|               0|               0|             0|               1|                1|                 0|                 0|                 0|                0|           0|           1|               0|               0|               0|           0|           0|             0|             0|             0|           0|           0|          1|                    0|                   0|                   0|                   1|                    0|\n",
            "|  2|        20|       80.0|   9600|          6|          8|     1976|        1976|       0.0|        3|        3|     4.0|     3.0|         4.0|         5.0|       978|         1.0|         0|      284|       1262|        5|    1262|       0|           0|     1262|           0|           1|       2|       0|           3|           1|          3|           6|         8|         1|        3.0|     1976.0|         2.0|         2|       460|       3.0|       3.0|       298|          0|            0|        0|          0|       0|  null| null|      0|     5|  2007|   181500|          0|          0|          1|          0|          1|         0|           0|           0|           1|              0|              0|              1|               0|                0|            1|            0|               0|            0|            0|                   0|                  0|                   0|                   0|                   0|                   0|                   0|                   0|                  0|                   0|                   0|                 0|                   0|                  0|                   0|                   0|                   0|                 0|                  0|                   0|                   0|                   0|                  0|                   1|               1|              0|              0|              0|              0|              0|              0|              0|               0|              1|              0|              0|              0|              0|              0|              0|              0|             0|              0|                0|                1|                0|                0|                0|                0|              0|              1|                0|            0|                0|             0|               1|               0|             0|            0|               0|               0|               0|                  0|                  0|                  0|                 0|                  0|                  0|                  0|                  1|                  0|                0|                 0|                  0|                  0|                  0|                  0|                  0|                  0|                 0|                  0|                  0|                  0|                  1|                0|                  0|                0|                 0|                  0|                  0|                  0|                 0|              1|               0|                1|               0|              0|               0|              0|           1|           0|           0|           0|           0|           1|               0|               0|             0|               1|                1|                 0|                 0|                 0|                0|           0|           1|               0|               0|               0|           0|           0|             0|             0|             0|           0|           0|          1|                    0|                   0|                   0|                   1|                    0|\n",
            "|  3|        60|       68.0|  11250|          7|          5|     2001|        2002|     162.0|        4|        3|     4.0|     3.0|         2.0|         6.0|       486|         1.0|         0|      434|        920|        5|     920|     866|           0|     1786|           1|           0|       2|       1|           3|           1|          4|           6|         8|         1|        3.0|     2001.0|         2.0|         2|       608|       3.0|       3.0|         0|         42|            0|        0|          0|       0|  null| null|      0|     9|  2008|   223500|          0|          0|          1|          0|          1|         0|           0|           0|           0|              0|              0|              1|               0|                0|            0|            0|               1|            0|            0|                   0|                  0|                   0|                   0|                   1|                   0|                   0|                   0|                  0|                   0|                   0|                 0|                   0|                  0|                   0|                   0|                   0|                 0|                  0|                   0|                   0|                   0|                  0|                   0|               0|              1|              0|              0|              0|              0|              0|              0|               0|              1|              0|              0|              0|              0|              0|              0|              0|             0|              0|                0|                0|                0|                0|                1|                0|              0|              1|                0|            0|                0|             0|               1|               0|             0|            0|               0|               0|               0|                  0|                  0|                  0|                 0|                  0|                  0|                  0|                  0|                  0|                0|                 0|                  1|                  0|                  0|                  0|                  0|                  0|                 0|                  0|                  0|                  0|                  0|                0|                  0|                0|                 0|                  1|                  0|                  0|                 1|              0|               0|                0|               1|              0|               0|              0|           1|           0|           0|           0|           0|           1|               0|               0|             0|               1|                1|                 0|                 0|                 0|                0|           0|           1|               0|               0|               0|           0|           0|             0|             0|             0|           0|           0|          1|                    0|                   0|                   0|                   1|                    0|\n",
            "|  4|        70|       60.0|   9550|          7|          5|     1915|        1970|       0.0|        3|        3|     3.0|     4.0|         1.0|         5.0|       216|         1.0|         0|      540|        756|        4|     961|     756|           0|     1717|           1|           0|       1|       0|           3|           1|          4|           7|         8|         1|        4.0|     1998.0|         1.0|         3|       642|       3.0|       3.0|         0|         35|          272|        0|          0|       0|  null| null|      0|     2|  2006|   140000|          0|          0|          1|          0|          1|         0|           0|           0|           0|              0|              0|              1|               0|                0|            0|            0|               0|            0|            0|                   0|                  0|                   0|                   0|                   0|                   1|                   0|                   0|                  0|                   0|                   0|                 0|                   0|                  0|                   0|                   0|                   0|                 0|                  0|                   0|                   0|                   0|                  0|                   0|               0|              1|              0|              0|              0|              0|              0|              0|               0|              1|              0|              0|              0|              0|              0|              0|              0|             0|              0|                0|                0|                0|                0|                1|                0|              0|              1|                0|            0|                0|             0|               1|               0|             0|            0|               0|               0|               0|                  0|                  0|                  0|                 0|                  0|                  0|                  0|                  0|                  0|                0|                 0|                  0|                  1|                  0|                  0|                  0|                  0|                 0|                  0|                  0|                  0|                  0|                0|                  0|                0|                 0|                  0|                  0|                  1|                 0|              1|               0|                0|               0|              0|               0|              0|           1|           0|           0|           0|           0|           1|               0|               0|             0|               1|                0|                 0|                 0|                 0|                1|           0|           1|               0|               0|               0|           0|           0|             0|             0|             0|           0|           0|          1|                    0|                   0|                   0|                   0|                    0|\n",
            "|  5|        60|       84.0|  14260|          8|          5|     2000|        2000|     350.0|        4|        3|     4.0|     3.0|         3.0|         6.0|       655|         1.0|         0|      490|       1145|        5|    1145|    1053|           0|     2198|           1|           0|       2|       1|           4|           1|          4|           9|         8|         1|        3.0|     2000.0|         2.0|         3|       836|       3.0|       3.0|       192|         84|            0|        0|          0|       0|  null| null|      0|    12|  2008|   250000|          0|          0|          1|          0|          1|         0|           0|           0|           0|              0|              0|              1|               0|                0|            1|            0|               0|            0|            0|                   0|                  0|                   0|                   0|                   0|                   0|                   0|                   0|                  0|                   0|                   0|                 0|                   0|                  0|                   1|                   0|                   0|                 0|                  0|                   0|                   0|                   0|                  0|                   0|               0|              1|              0|              0|              0|              0|              0|              0|               0|              1|              0|              0|              0|              0|              0|              0|              0|             0|              0|                0|                0|                0|                0|                1|                0|              0|              1|                0|            0|                0|             0|               1|               0|             0|            0|               0|               0|               0|                  0|                  0|                  0|                 0|                  0|                  0|                  0|                  0|                  0|                0|                 0|                  1|                  0|                  0|                  0|                  0|                  0|                 0|                  0|                  0|                  0|                  0|                0|                  0|                0|                 0|                  1|                  0|                  0|                 1|              0|               0|                0|               1|              0|               0|              0|           1|           0|           0|           0|           0|           1|               0|               0|             0|               1|                1|                 0|                 0|                 0|                0|           0|           1|               0|               0|               0|           0|           0|             0|             0|             0|           0|           0|          1|                    0|                   0|                   0|                   1|                    0|\n",
            "|  6|        50|       85.0|  14115|          5|          5|     1993|        1995|       0.0|        3|        3|     4.0|     3.0|         1.0|         6.0|       732|         1.0|         0|       64|        796|        5|     796|     566|           0|     1362|           1|           0|       1|       1|           1|           1|          3|           5|         8|         0|       null|     1993.0|         1.0|         2|       480|       3.0|       3.0|        40|         30|            0|      320|          0|       0|  null|  3.0|    700|    10|  2009|   143000|          0|          0|          1|          0|          1|         0|           0|           0|           0|              0|              0|              1|               0|                0|            0|            0|               1|            0|            0|                   0|                  0|                   0|                   0|                   0|                   0|                   0|                   0|                  0|                   0|                   1|                 0|                   0|                  0|                   0|                   0|                   0|                 0|                  0|                   0|                   0|                   0|                  0|                   0|               0|              1|              0|              0|              0|              0|              0|              0|               0|              1|              0|              0|              0|              0|              0|              0|              0|             0|              0|                0|                0|                0|                0|                0|                0|              0|              1|                0|            0|                0|             0|               1|               0|             0|            0|               0|               0|               0|                  0|                  0|                  0|                 0|                  0|                  0|                  0|                  0|                  0|                0|                 0|                  1|                  0|                  0|                  0|                  0|                  0|                 0|                  0|                  0|                  0|                  0|                0|                  0|                0|                 0|                  1|                  0|                  0|                 0|              1|               0|                0|               0|              0|               0|              1|           1|           0|           0|           0|           0|           1|               0|               0|             0|               1|                1|                 0|                 0|                 0|                0|           0|           1|               0|               1|               0|           0|           0|             0|             0|             0|           0|           0|          1|                    0|                   0|                   0|                   1|                    0|\n",
            "|  7|        20|       75.0|  10084|          8|          5|     2004|        2005|     186.0|        4|        3|     5.0|     3.0|         3.0|         6.0|      1369|         1.0|         0|      317|       1686|        5|    1694|       0|           0|     1694|           1|           0|       2|       0|           3|           1|          4|           7|         8|         1|        4.0|     2004.0|         2.0|         2|       636|       3.0|       3.0|       255|         57|            0|        0|          0|       0|  null| null|      0|     8|  2007|   307000|          0|          0|          1|          0|          1|         0|           0|           0|           1|              0|              0|              1|               0|                0|            0|            0|               1|            0|            0|                   0|                  0|                   0|                   0|                   0|                   0|                   0|                   0|                  0|                   0|                   0|                 0|                   0|                  0|                   0|                   0|                   0|                 0|                  0|                   0|                   1|                   0|                  0|                   0|               0|              1|              0|              0|              0|              0|              0|              0|               0|              1|              0|              0|              0|              0|              0|              0|              0|             0|              0|                0|                1|                0|                0|                0|                0|              0|              1|                0|            0|                0|             0|               1|               0|             0|            0|               0|               0|               0|                  0|                  0|                  0|                 0|                  0|                  0|                  0|                  0|                  0|                0|                 0|                  1|                  0|                  0|                  0|                  0|                  0|                 0|                  0|                  0|                  0|                  0|                0|                  0|                0|                 0|                  1|                  0|                  0|                 0|              0|               1|                0|               1|              0|               0|              0|           1|           0|           0|           0|           0|           1|               0|               0|             0|               1|                1|                 0|                 0|                 0|                0|           0|           1|               0|               0|               0|           0|           0|             0|             0|             0|           0|           0|          1|                    0|                   0|                   0|                   1|                    0|\n",
            "|  8|        60|       null|  10382|          7|          6|     1973|        1973|     240.0|        3|        3|     4.0|     3.0|         2.0|         5.0|       859|         4.0|        32|      216|       1107|        5|    1107|     983|           0|     2090|           1|           0|       2|       1|           3|           1|          3|           7|         8|         2|        3.0|     1973.0|         2.0|         2|       484|       3.0|       3.0|       235|        204|          228|        0|          0|       0|  null| null|    350|    11|  2009|   200000|          0|          0|          1|          0|          1|         0|           0|           0|           0|              0|              0|              1|               0|                0|            0|            0|               0|            0|            0|                   0|                  0|                   0|                   0|                   0|                   0|                   0|                   0|                  0|                   0|                   0|                 0|                   0|                  1|                   0|                   0|                   0|                 0|                  0|                   0|                   0|                   0|                  0|                   0|               0|              0|              0|              1|              0|              0|              0|              0|               0|              1|              0|              0|              0|              0|              0|              0|              0|             0|              0|                0|                0|                0|                0|                1|                0|              0|              1|                0|            0|                0|             0|               1|               0|             0|            0|               0|               0|               0|                  0|                  0|                  0|                 0|                  0|                  1|                  0|                  0|                  0|                0|                 0|                  0|                  0|                  0|                  0|                  0|                  0|                 0|                  0|                  1|                  0|                  0|                0|                  0|                0|                 0|                  0|                  0|                  0|                 0|              0|               1|                1|               0|              0|               0|              0|           1|           0|           0|           0|           0|           1|               0|               0|             0|               1|                1|                 0|                 0|                 0|                0|           0|           1|               0|               1|               0|           0|           0|             0|             0|             0|           0|           0|          1|                    0|                   0|                   0|                   1|                    0|\n",
            "|  9|        50|       51.0|   6120|          7|          5|     1931|        1950|       0.0|        3|        3|     3.0|     3.0|         1.0|         1.0|         0|         1.0|         0|      952|        952|        4|    1022|     752|           0|     1774|           0|           0|       2|       0|           2|           2|          3|           8|         7|         2|        3.0|     1931.0|         1.0|         2|       468|       2.0|       3.0|        90|          0|          205|        0|          0|       0|  null| null|      0|     4|  2008|   129900|          0|          0|          0|          1|          1|         0|           0|           0|           1|              0|              0|              1|               0|                0|            0|            0|               1|            0|            0|                   0|                  0|                   0|                   0|                   0|                   0|                   0|                   0|                  0|                   0|                   0|                 0|                   0|                  0|                   0|                   0|                   1|                 0|                  0|                   0|                   0|                   0|                  0|                   0|               0|              0|              0|              0|              0|              0|              0|              0|               0|              1|              0|              0|              0|              0|              0|              0|              0|             0|              0|                0|                0|                0|                0|                0|                0|              0|              1|                0|            0|                0|             0|               1|               0|             0|            0|               0|               0|               0|                  0|                  0|                  1|                 0|                  0|                  0|                  0|                  0|                  0|                0|                 0|                  0|                  0|                  0|                  0|                  0|                  0|                 0|                  0|                  0|                  0|                  0|                0|                  0|                0|                 0|                  0|                  0|                  1|                 0|              1|               0|                0|               0|              0|               0|              0|           1|           0|           0|           0|           0|           1|               1|               0|             0|               0|                0|                 0|                 0|                 0|                1|           0|           1|               0|               0|               0|           0|           0|             0|             0|             0|           0|           0|          1|                    0|                   0|                   0|                   0|                    0|\n",
            "| 10|       190|       50.0|   7420|          5|          6|     1939|        1950|       0.0|        3|        3|     3.0|     3.0|         1.0|         6.0|       851|         1.0|         0|      140|        991|        5|    1077|       0|           0|     1077|           1|           0|       1|       0|           2|           2|          3|           5|         8|         2|        3.0|     1939.0|         2.0|         1|       205|       4.0|       3.0|         0|          4|            0|        0|          0|       0|  null| null|      0|     1|  2008|   118000|          0|          0|          1|          0|          1|         0|           0|           0|           1|              0|              0|              1|               0|                0|            0|            0|               0|            0|            0|                   0|                  0|                   1|                   0|                   0|                   0|                   0|                   0|                  0|                   0|                   0|                 0|                   0|                  0|                   0|                   0|                   0|                 0|                  0|                   0|                   0|                   0|                  0|                   0|               0|              0|              0|              0|              0|              0|              0|              0|               0|              0|              0|              0|              0|              0|              0|              1|              0|             0|              0|                1|                0|                0|                0|                0|                0|              0|              1|                0|            0|                0|             0|               1|               0|             0|            0|               0|               0|               0|                  0|                  0|                  0|                 0|                  0|                  0|                  0|                  1|                  0|                0|                 0|                  0|                  0|                  0|                  0|                  0|                  0|                 0|                  0|                  0|                  0|                  1|                0|                  0|                0|                 0|                  0|                  0|                  0|                 0|              1|               0|                0|               0|              0|               0|              0|           1|           0|           0|           0|           0|           1|               0|               0|             0|               1|                1|                 0|                 0|                 0|                0|           0|           1|               0|               0|               0|           0|           0|             0|             0|             0|           0|           0|          1|                    0|                   0|                   0|                   1|                    0|\n",
            "+---+----------+-----------+-------+-----------+-----------+---------+------------+----------+---------+---------+--------+--------+------------+------------+----------+------------+----------+---------+-----------+---------+--------+--------+------------+---------+------------+------------+--------+--------+------------+------------+-----------+------------+----------+----------+-----------+-----------+------------+----------+----------+----------+----------+----------+-----------+-------------+---------+-----------+--------+------+-----+-------+------+------+---------+-----------+-----------+-----------+-----------+-----------+----------+------------+------------+------------+---------------+---------------+---------------+----------------+-----------------+-------------+-------------+----------------+-------------+-------------+--------------------+-------------------+--------------------+--------------------+--------------------+--------------------+--------------------+--------------------+-------------------+--------------------+--------------------+------------------+--------------------+-------------------+--------------------+--------------------+--------------------+------------------+-------------------+--------------------+--------------------+--------------------+-------------------+--------------------+----------------+---------------+---------------+---------------+---------------+---------------+---------------+---------------+----------------+---------------+---------------+---------------+---------------+---------------+---------------+---------------+---------------+--------------+---------------+-----------------+-----------------+-----------------+-----------------+-----------------+-----------------+---------------+---------------+-----------------+-------------+-----------------+--------------+----------------+----------------+--------------+-------------+----------------+----------------+----------------+-------------------+-------------------+-------------------+------------------+-------------------+-------------------+-------------------+-------------------+-------------------+-----------------+------------------+-------------------+-------------------+-------------------+-------------------+-------------------+-------------------+------------------+-------------------+-------------------+-------------------+-------------------+-----------------+-------------------+-----------------+------------------+-------------------+-------------------+-------------------+------------------+---------------+----------------+-----------------+----------------+---------------+----------------+---------------+------------+------------+------------+------------+------------+------------+----------------+----------------+--------------+----------------+-----------------+------------------+------------------+------------------+-----------------+------------+------------+----------------+----------------+----------------+------------+------------+--------------+--------------+--------------+------------+------------+-----------+---------------------+--------------------+--------------------+--------------------+---------------------+\n",
            "only showing top 10 rows\n",
            "\n"
          ],
          "name": "stdout"
        }
      ]
    },
    {
      "cell_type": "markdown",
      "metadata": {
        "id": "_dmStkw_UfNK"
      },
      "source": [
        "Forest of Trees Feature Selection\n"
      ]
    },
    {
      "cell_type": "code",
      "metadata": {
        "colab": {
          "base_uri": "https://localhost:8080/"
        },
        "id": "_VDmmSStUmTg",
        "outputId": "1a3397f7-cdb4-455e-b631-0800b732686f"
      },
      "source": [
        "#Get the Feature names\n",
        "import pandas as pd\n",
        "\n",
        "features = [col for col in df.columns]\n",
        "print(features)\n",
        "\n",
        "print(type(features))"
      ],
      "execution_count": 4,
      "outputs": [
        {
          "output_type": "stream",
          "text": [
            "['Id', 'MSSubClass', 'LotFrontage', 'LotArea', 'OverallQual', 'OverallCond', 'YearBuilt', 'YearRemodAdd', 'MasVnrArea', 'ExterQual', 'ExterCond', 'BsmtQual', 'BsmtCond', 'BsmtExposure', 'BsmtFinType1', 'BsmtFinSF1', 'BsmtFinType2', 'BsmtFinSF2', 'BsmtUnfSF', 'TotalBsmtSF', 'HeatingQC', '1stFlrSF', '2ndFlrSF', 'LowQualFinSF', 'GrLivArea', 'BsmtFullBath', 'BsmtHalfBath', 'FullBath', 'HalfBath', 'BedroomAbvGr', 'KitchenAbvGr', 'KitchenQual', 'TotRmsAbvGrd', 'Functional', 'Fireplaces', 'FireplaceQu', 'GarageYrBlt', 'GarageFinish', 'GarageCars', 'GarageArea', 'GarageQual', 'GarageCond', 'WoodDeckSF', 'OpenPorchSF', 'EnclosedPorch', '3SsnPorch', 'ScreenPorch', 'PoolArea', 'PoolQC', 'Fence', 'MiscVal', 'MoSold', 'YrSold', 'SalePrice', 'MSZoning_FV', 'MSZoning_RH', 'MSZoning_RL', 'MSZoning_RM', 'Street_Pave', 'Alley_Pave', 'LotShape_IR2', 'LotShape_IR3', 'LotShape_Reg', 'LandContour_HLS', 'LandContour_Low', 'LandContour_Lvl', 'Utilities_NoSeWa', 'LotConfig_CulDSac', 'LotConfig_FR2', 'LotConfig_FR3', 'LotConfig_Inside', 'LandSlope_Mod', 'LandSlope_Sev', 'Neighborhood_Blueste', 'Neighborhood_BrDale', 'Neighborhood_BrkSide', 'Neighborhood_ClearCr', 'Neighborhood_CollgCr', 'Neighborhood_Crawfor', 'Neighborhood_Edwards', 'Neighborhood_Gilbert', 'Neighborhood_IDOTRR', 'Neighborhood_MeadowV', 'Neighborhood_Mitchel', 'Neighborhood_NAmes', 'Neighborhood_NPkVill', 'Neighborhood_NWAmes', 'Neighborhood_NoRidge', 'Neighborhood_NridgHt', 'Neighborhood_OldTown', 'Neighborhood_SWISU', 'Neighborhood_Sawyer', 'Neighborhood_SawyerW', 'Neighborhood_Somerst', 'Neighborhood_StoneBr', 'Neighborhood_Timber', 'Neighborhood_Veenker', 'Condition1_Feedr', 'Condition1_Norm', 'Condition1_PosA', 'Condition1_PosN', 'Condition1_RRAe', 'Condition1_RRAn', 'Condition1_RRNe', 'Condition1_RRNn', 'Condition2_Feedr', 'Condition2_Norm', 'Condition2_PosA', 'Condition2_PosN', 'Condition2_RRAe', 'Condition2_RRAn', 'Condition2_RRNn', 'BldgType_2fmCon', 'BldgType_Duplex', 'BldgType_Twnhs', 'BldgType_TwnhsE', 'HouseStyle_1.5Unf', 'HouseStyle_1Story', 'HouseStyle_2.5Fin', 'HouseStyle_2.5Unf', 'HouseStyle_2Story', 'HouseStyle_SFoyer', 'HouseStyle_SLvl', 'RoofStyle_Gable', 'RoofStyle_Gambrel', 'RoofStyle_Hip', 'RoofStyle_Mansard', 'RoofStyle_Shed', 'RoofMatl_CompShg', 'RoofMatl_Membran', 'RoofMatl_Metal', 'RoofMatl_Roll', 'RoofMatl_Tar&Grv', 'RoofMatl_WdShake', 'RoofMatl_WdShngl', 'Exterior1st_AsphShn', 'Exterior1st_BrkComm', 'Exterior1st_BrkFace', 'Exterior1st_CBlock', 'Exterior1st_CemntBd', 'Exterior1st_HdBoard', 'Exterior1st_ImStucc', 'Exterior1st_MetalSd', 'Exterior1st_Plywood', 'Exterior1st_Stone', 'Exterior1st_Stucco', 'Exterior1st_VinylSd', 'Exterior1st_Wd Sdng', 'Exterior1st_WdShing', 'Exterior2nd_AsphShn', 'Exterior2nd_Brk Cmn', 'Exterior2nd_BrkFace', 'Exterior2nd_CBlock', 'Exterior2nd_CmentBd', 'Exterior2nd_HdBoard', 'Exterior2nd_ImStucc', 'Exterior2nd_MetalSd', 'Exterior2nd_Other', 'Exterior2nd_Plywood', 'Exterior2nd_Stone', 'Exterior2nd_Stucco', 'Exterior2nd_VinylSd', 'Exterior2nd_Wd Sdng', 'Exterior2nd_Wd Shng', 'MasVnrType_BrkFace', 'MasVnrType_None', 'MasVnrType_Stone', 'Foundation_CBlock', 'Foundation_PConc', 'Foundation_Slab', 'Foundation_Stone', 'Foundation_Wood', 'Heating_GasA', 'Heating_GasW', 'Heating_Grav', 'Heating_OthW', 'Heating_Wall', 'CentralAir_Y', 'Electrical_FuseF', 'Electrical_FuseP', 'Electrical_Mix', 'Electrical_SBrkr', 'GarageType_Attchd', 'GarageType_Basment', 'GarageType_BuiltIn', 'GarageType_CarPort', 'GarageType_Detchd', 'PavedDrive_P', 'PavedDrive_Y', 'MiscFeature_Othr', 'MiscFeature_Shed', 'MiscFeature_TenC', 'SaleType_CWD', 'SaleType_Con', 'SaleType_ConLD', 'SaleType_ConLI', 'SaleType_ConLw', 'SaleType_New', 'SaleType_Oth', 'SaleType_WD', 'SaleCondition_AdjLand', 'SaleCondition_Alloca', 'SaleCondition_Family', 'SaleCondition_Normal', 'SaleCondition_Partial']\n",
            "<class 'list'>\n"
          ],
          "name": "stdout"
        }
      ]
    },
    {
      "cell_type": "code",
      "metadata": {
        "id": "DXB7cjnPV443"
      },
      "source": [
        "#Import sklearn tools and dependencies\n",
        "from sklearn.ensemble import RandomForestClassifier\n",
        "from sklearn.model_selection import train_test_split\n",
        "from sklearn.preprocessing import StandardScaler"
      ],
      "execution_count": 5,
      "outputs": []
    },
    {
      "cell_type": "code",
      "metadata": {
        "id": "DtBaA0xCWF6p"
      },
      "source": [
        "#####################Create the feature data and the target\n",
        "\n",
        "#Feature DataFrame is X\n",
        "X = df.drop(columns=[\"Id\", \"SalePrice\"])\n",
        "\n",
        "\n",
        "#Target Dataframe is y\n",
        "y = df[\"SalePrice\"]\n",
        "\n",
        "\n",
        "#####################Create train_test_split\n",
        "X_train, X_test, y_train, y_test = train_test_split(X, y, random_state=2)\n",
        "\n",
        "#Scale\n",
        "X_train_scaler = StandardScaler().fit(X_train)\n",
        "X_test_scaler = StandardScaler().fit(X_test)\n",
        "X_train_scaled = X_train_scaler.transform(X_train)\n",
        "X_test_scaled = X_test_scaler.transform(X_test)"
      ],
      "execution_count": 6,
      "outputs": []
    },
    {
      "cell_type": "code",
      "metadata": {
        "colab": {
          "base_uri": "https://localhost:8080/"
        },
        "id": "JFhxGwEQYYfv",
        "outputId": "f34dd658-9888-44fd-e5b4-5f43de2f8557"
      },
      "source": [
        "rf = RandomForestClassifier(n_estimators=200)\n",
        "rf.fit(X_train_scaled, y_train)\n",
        "print(f' Training score: {rf.score(X_train_scaled, y_train)}')\n",
        "print(f' Test score: {rf.score(X_test_scaled, y_test)}')"
      ],
      "execution_count": 7,
      "outputs": [
        {
          "output_type": "stream",
          "text": [
            " Training score: 1.0\n",
            " Test score: 0.0\n"
          ],
          "name": "stdout"
        }
      ]
    },
    {
      "cell_type": "code",
      "metadata": {
        "colab": {
          "base_uri": "https://localhost:8080/"
        },
        "id": "9ZP6Ua3VjVle",
        "outputId": "70067761-4f5d-4c6a-d4be-e20ed8d8eebd"
      },
      "source": [
        "importances = rf.feature_importances_\n",
        "features.remove(\"Id\")\n",
        "features.remove(\"SalePrice\")\n",
        "\n",
        "sorted(zip(rf.feature_importances_, features), reverse=True)"
      ],
      "execution_count": 8,
      "outputs": [
        {
          "output_type": "execute_result",
          "data": {
            "text/plain": [
              "[(0.03551912568306011, 'PoolArea'),\n",
              " (0.03278688524590164, 'TotalBsmtSF'),\n",
              " (0.03278688524590164, 'ExterQual'),\n",
              " (0.03278688524590164, 'BsmtFinSF1'),\n",
              " (0.030054644808743168, 'Neighborhood_NoRidge'),\n",
              " (0.030054644808743168, 'LotFrontage'),\n",
              " (0.030054644808743168, 'BsmtFinType2'),\n",
              " (0.0273224043715847, 'WoodDeckSF'),\n",
              " (0.0273224043715847, 'GarageType_Attchd'),\n",
              " (0.02459016393442623, 'PoolQC'),\n",
              " (0.02459016393442623, 'LotArea'),\n",
              " (0.02459016393442623, 'Fireplaces'),\n",
              " (0.02459016393442623, 'Exterior2nd_Stucco'),\n",
              " (0.02459016393442623, 'Condition1_Norm'),\n",
              " (0.02185792349726776, 'Exterior1st_Wd Sdng'),\n",
              " (0.02185792349726776, 'Exterior1st_HdBoard'),\n",
              " (0.02185792349726776, 'BsmtHalfBath'),\n",
              " (0.01912568306010929, 'LowQualFinSF'),\n",
              " (0.01912568306010929, 'GarageFinish'),\n",
              " (0.01912568306010929, 'Exterior2nd_ImStucc'),\n",
              " (0.01912568306010929, 'Exterior1st_Stucco'),\n",
              " (0.01912568306010929, 'BsmtQual'),\n",
              " (0.01912568306010929, 'BsmtFinSF2'),\n",
              " (0.01912568306010929, 'BsmtExposure'),\n",
              " (0.01912568306010929, '2ndFlrSF'),\n",
              " (0.01639344262295082, 'TotRmsAbvGrd'),\n",
              " (0.01639344262295082, 'RoofStyle_Hip'),\n",
              " (0.01639344262295082, 'MasVnrArea'),\n",
              " (0.01639344262295082, '1stFlrSF'),\n",
              " (0.01366120218579235, 'OverallQual'),\n",
              " (0.01366120218579235, 'OverallCond'),\n",
              " (0.01366120218579235, 'OpenPorchSF'),\n",
              " (0.01366120218579235, 'MasVnrType_None'),\n",
              " (0.01366120218579235, 'MasVnrType_BrkFace'),\n",
              " (0.01366120218579235, 'MSSubClass'),\n",
              " (0.01366120218579235, 'HouseStyle_1Story'),\n",
              " (0.01366120218579235, 'GarageYrBlt'),\n",
              " (0.01366120218579235, 'FullBath'),\n",
              " (0.01366120218579235, 'Foundation_CBlock'),\n",
              " (0.01366120218579235, 'Fence'),\n",
              " (0.01366120218579235, 'BsmtUnfSF'),\n",
              " (0.01092896174863388, 'YrSold'),\n",
              " (0.01092896174863388, 'KitchenQual'),\n",
              " (0.01092896174863388, 'GarageArea'),\n",
              " (0.01092896174863388, 'BsmtFinType1'),\n",
              " (0.01092896174863388, 'BedroomAbvGr'),\n",
              " (0.00819672131147541, 'YearRemodAdd'),\n",
              " (0.00819672131147541, 'RoofStyle_Gable'),\n",
              " (0.00819672131147541, 'Neighborhood_NWAmes'),\n",
              " (0.00819672131147541, 'Neighborhood_NAmes'),\n",
              " (0.00819672131147541, 'HeatingQC'),\n",
              " (0.00819672131147541, 'GrLivArea'),\n",
              " (0.00819672131147541, 'Foundation_PConc'),\n",
              " (0.00546448087431694, 'MoSold'),\n",
              " (0.00546448087431694, 'LotShape_Reg'),\n",
              " (0.00546448087431694, 'FireplaceQu'),\n",
              " (0.00546448087431694, 'ExterCond'),\n",
              " (0.00546448087431694, 'EnclosedPorch'),\n",
              " (0.00273224043715847, 'YearBuilt'),\n",
              " (0.00273224043715847, 'HouseStyle_2Story'),\n",
              " (0.00273224043715847, 'HalfBath'),\n",
              " (0.00273224043715847, 'Exterior2nd_HdBoard'),\n",
              " (0.0, 'Utilities_NoSeWa'),\n",
              " (0.0, 'Street_Pave'),\n",
              " (0.0, 'ScreenPorch'),\n",
              " (0.0, 'SaleType_WD'),\n",
              " (0.0, 'SaleType_Oth'),\n",
              " (0.0, 'SaleType_New'),\n",
              " (0.0, 'SaleType_ConLw'),\n",
              " (0.0, 'SaleType_ConLI'),\n",
              " (0.0, 'SaleType_ConLD'),\n",
              " (0.0, 'SaleType_Con'),\n",
              " (0.0, 'SaleType_CWD'),\n",
              " (0.0, 'SaleCondition_Partial'),\n",
              " (0.0, 'SaleCondition_Normal'),\n",
              " (0.0, 'SaleCondition_Family'),\n",
              " (0.0, 'SaleCondition_Alloca'),\n",
              " (0.0, 'SaleCondition_AdjLand'),\n",
              " (0.0, 'RoofStyle_Shed'),\n",
              " (0.0, 'RoofStyle_Mansard'),\n",
              " (0.0, 'RoofStyle_Gambrel'),\n",
              " (0.0, 'RoofMatl_WdShngl'),\n",
              " (0.0, 'RoofMatl_WdShake'),\n",
              " (0.0, 'RoofMatl_Tar&Grv'),\n",
              " (0.0, 'RoofMatl_Roll'),\n",
              " (0.0, 'RoofMatl_Metal'),\n",
              " (0.0, 'RoofMatl_Membran'),\n",
              " (0.0, 'RoofMatl_CompShg'),\n",
              " (0.0, 'PavedDrive_Y'),\n",
              " (0.0, 'PavedDrive_P'),\n",
              " (0.0, 'Neighborhood_Veenker'),\n",
              " (0.0, 'Neighborhood_Timber'),\n",
              " (0.0, 'Neighborhood_StoneBr'),\n",
              " (0.0, 'Neighborhood_Somerst'),\n",
              " (0.0, 'Neighborhood_SawyerW'),\n",
              " (0.0, 'Neighborhood_Sawyer'),\n",
              " (0.0, 'Neighborhood_SWISU'),\n",
              " (0.0, 'Neighborhood_OldTown'),\n",
              " (0.0, 'Neighborhood_NridgHt'),\n",
              " (0.0, 'Neighborhood_NPkVill'),\n",
              " (0.0, 'Neighborhood_Mitchel'),\n",
              " (0.0, 'Neighborhood_MeadowV'),\n",
              " (0.0, 'Neighborhood_IDOTRR'),\n",
              " (0.0, 'Neighborhood_Gilbert'),\n",
              " (0.0, 'Neighborhood_Edwards'),\n",
              " (0.0, 'Neighborhood_Crawfor'),\n",
              " (0.0, 'Neighborhood_CollgCr'),\n",
              " (0.0, 'Neighborhood_ClearCr'),\n",
              " (0.0, 'Neighborhood_BrkSide'),\n",
              " (0.0, 'Neighborhood_BrDale'),\n",
              " (0.0, 'Neighborhood_Blueste'),\n",
              " (0.0, 'MiscVal'),\n",
              " (0.0, 'MiscFeature_TenC'),\n",
              " (0.0, 'MiscFeature_Shed'),\n",
              " (0.0, 'MiscFeature_Othr'),\n",
              " (0.0, 'MasVnrType_Stone'),\n",
              " (0.0, 'MSZoning_RM'),\n",
              " (0.0, 'MSZoning_RL'),\n",
              " (0.0, 'MSZoning_RH'),\n",
              " (0.0, 'MSZoning_FV'),\n",
              " (0.0, 'LotShape_IR3'),\n",
              " (0.0, 'LotShape_IR2'),\n",
              " (0.0, 'LotConfig_Inside'),\n",
              " (0.0, 'LotConfig_FR3'),\n",
              " (0.0, 'LotConfig_FR2'),\n",
              " (0.0, 'LotConfig_CulDSac'),\n",
              " (0.0, 'LandSlope_Sev'),\n",
              " (0.0, 'LandSlope_Mod'),\n",
              " (0.0, 'LandContour_Lvl'),\n",
              " (0.0, 'LandContour_Low'),\n",
              " (0.0, 'LandContour_HLS'),\n",
              " (0.0, 'KitchenAbvGr'),\n",
              " (0.0, 'HouseStyle_SLvl'),\n",
              " (0.0, 'HouseStyle_SFoyer'),\n",
              " (0.0, 'HouseStyle_2.5Unf'),\n",
              " (0.0, 'HouseStyle_2.5Fin'),\n",
              " (0.0, 'HouseStyle_1.5Unf'),\n",
              " (0.0, 'Heating_Wall'),\n",
              " (0.0, 'Heating_OthW'),\n",
              " (0.0, 'Heating_Grav'),\n",
              " (0.0, 'Heating_GasW'),\n",
              " (0.0, 'Heating_GasA'),\n",
              " (0.0, 'GarageType_Detchd'),\n",
              " (0.0, 'GarageType_CarPort'),\n",
              " (0.0, 'GarageType_BuiltIn'),\n",
              " (0.0, 'GarageType_Basment'),\n",
              " (0.0, 'GarageQual'),\n",
              " (0.0, 'GarageCond'),\n",
              " (0.0, 'GarageCars'),\n",
              " (0.0, 'Functional'),\n",
              " (0.0, 'Foundation_Wood'),\n",
              " (0.0, 'Foundation_Stone'),\n",
              " (0.0, 'Foundation_Slab'),\n",
              " (0.0, 'Exterior2nd_Wd Shng'),\n",
              " (0.0, 'Exterior2nd_Wd Sdng'),\n",
              " (0.0, 'Exterior2nd_VinylSd'),\n",
              " (0.0, 'Exterior2nd_Stone'),\n",
              " (0.0, 'Exterior2nd_Plywood'),\n",
              " (0.0, 'Exterior2nd_Other'),\n",
              " (0.0, 'Exterior2nd_MetalSd'),\n",
              " (0.0, 'Exterior2nd_CmentBd'),\n",
              " (0.0, 'Exterior2nd_CBlock'),\n",
              " (0.0, 'Exterior2nd_BrkFace'),\n",
              " (0.0, 'Exterior2nd_Brk Cmn'),\n",
              " (0.0, 'Exterior2nd_AsphShn'),\n",
              " (0.0, 'Exterior1st_WdShing'),\n",
              " (0.0, 'Exterior1st_VinylSd'),\n",
              " (0.0, 'Exterior1st_Stone'),\n",
              " (0.0, 'Exterior1st_Plywood'),\n",
              " (0.0, 'Exterior1st_MetalSd'),\n",
              " (0.0, 'Exterior1st_ImStucc'),\n",
              " (0.0, 'Exterior1st_CemntBd'),\n",
              " (0.0, 'Exterior1st_CBlock'),\n",
              " (0.0, 'Exterior1st_BrkFace'),\n",
              " (0.0, 'Exterior1st_BrkComm'),\n",
              " (0.0, 'Exterior1st_AsphShn'),\n",
              " (0.0, 'Electrical_SBrkr'),\n",
              " (0.0, 'Electrical_Mix'),\n",
              " (0.0, 'Electrical_FuseP'),\n",
              " (0.0, 'Electrical_FuseF'),\n",
              " (0.0, 'Condition2_RRNn'),\n",
              " (0.0, 'Condition2_RRAn'),\n",
              " (0.0, 'Condition2_RRAe'),\n",
              " (0.0, 'Condition2_PosN'),\n",
              " (0.0, 'Condition2_PosA'),\n",
              " (0.0, 'Condition2_Norm'),\n",
              " (0.0, 'Condition2_Feedr'),\n",
              " (0.0, 'Condition1_RRNn'),\n",
              " (0.0, 'Condition1_RRNe'),\n",
              " (0.0, 'Condition1_RRAn'),\n",
              " (0.0, 'Condition1_RRAe'),\n",
              " (0.0, 'Condition1_PosN'),\n",
              " (0.0, 'Condition1_PosA'),\n",
              " (0.0, 'Condition1_Feedr'),\n",
              " (0.0, 'CentralAir_Y'),\n",
              " (0.0, 'BsmtFullBath'),\n",
              " (0.0, 'BsmtCond'),\n",
              " (0.0, 'BldgType_TwnhsE'),\n",
              " (0.0, 'BldgType_Twnhs'),\n",
              " (0.0, 'BldgType_Duplex'),\n",
              " (0.0, 'BldgType_2fmCon'),\n",
              " (0.0, 'Alley_Pave'),\n",
              " (0.0, '3SsnPorch')]"
            ]
          },
          "metadata": {
            "tags": []
          },
          "execution_count": 8
        }
      ]
    },
    {
      "cell_type": "code",
      "metadata": {
        "colab": {
          "base_uri": "https://localhost:8080/",
          "height": 214
        },
        "id": "QImSFrcQjb33",
        "outputId": "122869c4-9133-485a-cdf2-10c86dbf327a"
      },
      "source": [
        ""
      ],
      "execution_count": 9,
      "outputs": [
        {
          "output_type": "error",
          "ename": "ValueError",
          "evalue": "ignored",
          "traceback": [
            "\u001b[0;31m---------------------------------------------------------------------------\u001b[0m",
            "\u001b[0;31mValueError\u001b[0m                                Traceback (most recent call last)",
            "\u001b[0;32m<ipython-input-9-b4101cdb3b12>\u001b[0m in \u001b[0;36m<module>\u001b[0;34m()\u001b[0m\n\u001b[0;32m----> 1\u001b[0;31m \u001b[0mfeatures\u001b[0m\u001b[0;34m.\u001b[0m\u001b[0mremove\u001b[0m\u001b[0;34m(\u001b[0m\u001b[0;34m\"Id\"\u001b[0m\u001b[0;34m)\u001b[0m\u001b[0;34m\u001b[0m\u001b[0;34m\u001b[0m\u001b[0m\n\u001b[0m\u001b[1;32m      2\u001b[0m \u001b[0mfeatures\u001b[0m\u001b[0;34m.\u001b[0m\u001b[0mremove\u001b[0m\u001b[0;34m(\u001b[0m\u001b[0;34m\"SalePrice\"\u001b[0m\u001b[0;34m)\u001b[0m\u001b[0;34m\u001b[0m\u001b[0;34m\u001b[0m\u001b[0m\n\u001b[1;32m      3\u001b[0m \u001b[0;34m\u001b[0m\u001b[0m\n\u001b[1;32m      4\u001b[0m \u001b[0msorted\u001b[0m\u001b[0;34m(\u001b[0m\u001b[0mzip\u001b[0m\u001b[0;34m(\u001b[0m\u001b[0mrf\u001b[0m\u001b[0;34m.\u001b[0m\u001b[0mfeature_importances_\u001b[0m\u001b[0;34m,\u001b[0m \u001b[0mfeatures\u001b[0m\u001b[0;34m)\u001b[0m\u001b[0;34m,\u001b[0m \u001b[0mreverse\u001b[0m\u001b[0;34m=\u001b[0m\u001b[0;32mTrue\u001b[0m\u001b[0;34m)\u001b[0m\u001b[0;34m\u001b[0m\u001b[0;34m\u001b[0m\u001b[0m\n",
            "\u001b[0;31mValueError\u001b[0m: list.remove(x): x not in list"
          ]
        }
      ]
    }
  ]
}